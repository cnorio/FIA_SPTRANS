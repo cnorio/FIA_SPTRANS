{
 "cells": [
  {
   "cell_type": "code",
   "execution_count": 1,
   "id": "6c0912a3-8391-4d1d-862a-5b8c6063422c",
   "metadata": {},
   "outputs": [],
   "source": [
    "#####################################################################################################\n",
    "#\n",
    "# Geração de estatísticas gerais obtidas a partir dos arquivos da camada Prata, que contêm informações da\n",
    "# API Posicao da SPTRANS. Essas estatísticas serão armazenadas na camada ouro\n",
    "#\n",
    "# Abaixo as estatisticas geradas:\n",
    "# 1. Estatística com a quantidade total por linha de ônibus circulando a cada medição\n",
    "# 2. Estatística com a quantidade total geral de ônibus circulando a cada medição\n",
    "# 3. Estatística com a média de ônibus por linha circulando por hora\n",
    "# 4. Estatística com a média geral de ônibus circulando por hora\n",
    "#\n",
    "# *Obs: a medição se refere a cada chamada da API Posicao\n",
    "#"
   ]
  },
  {
   "cell_type": "code",
   "execution_count": 2,
   "id": "cba75082-b51c-483a-b114-c503e6549aaa",
   "metadata": {},
   "outputs": [],
   "source": [
    "#pip install psycopg2-binary"
   ]
  },
  {
   "cell_type": "code",
   "execution_count": 3,
   "id": "bdd464f0-36f4-4334-971f-d6d2ad7f6641",
   "metadata": {},
   "outputs": [],
   "source": [
    "from pyspark.sql import SparkSession"
   ]
  },
  {
   "cell_type": "code",
   "execution_count": 4,
   "id": "2f7de449-d55c-40f8-856d-03235ba5a5ff",
   "metadata": {},
   "outputs": [],
   "source": [
    "from pyspark.sql.functions import explode"
   ]
  },
  {
   "cell_type": "code",
   "execution_count": 5,
   "id": "cdbfea58-0c8d-4863-a991-c3976be5ed25",
   "metadata": {},
   "outputs": [],
   "source": [
    "from pyspark.sql.functions import from_utc_timestamp,split, substring, sum, avg, max,filter, ceil"
   ]
  },
  {
   "cell_type": "code",
   "execution_count": 6,
   "id": "3a681805-2b27-4b37-85cc-5853fe7b67ab",
   "metadata": {},
   "outputs": [],
   "source": [
    "from datetime import datetime, timedelta\n",
    "import zoneinfo as zi"
   ]
  },
  {
   "cell_type": "code",
   "execution_count": 7,
   "id": "19a99a39-bf4f-42a8-9f1a-03d78c919ad7",
   "metadata": {},
   "outputs": [],
   "source": [
    "spark = SparkSession.builder.appName(\"FIA-Proj-SPTRANS-Ouro\").enableHiveSupport().getOrCreate()"
   ]
  },
  {
   "cell_type": "code",
   "execution_count": 8,
   "id": "3e732029-6d8f-406b-92c3-44f2417165fc",
   "metadata": {},
   "outputs": [],
   "source": [
    "#####################################################################################################\n",
    "#\n",
    "# Leitura dos arquivos da camada Prata relativos a uma determinada hora com as infos da API Posicao \n",
    "#"
   ]
  },
  {
   "cell_type": "code",
   "execution_count": 9,
   "id": "231c4191-edb7-4d1b-a7b8-db2f81382640",
   "metadata": {},
   "outputs": [],
   "source": [
    "#Calcula a hora a ser processada\n",
    "GMT = zi.ZoneInfo('GMT')\n",
    "LOCAL_TZ_STR='America/Sao_Paulo'\n",
    "LOCAL_TZ = zi.ZoneInfo(LOCAL_TZ_STR)\n",
    "\n",
    "dt_localtime=datetime.now(tz=LOCAL_TZ)\n",
    "dt_lasthour= dt_localtime - timedelta(hours=0)\n",
    "\n",
    "str_lasthour= dt_lasthour.strftime('%Y/%m/%d/%H')\n"
   ]
  },
  {
   "cell_type": "code",
   "execution_count": 10,
   "id": "4da4e81b-a434-4106-8d69-52b260907b8a",
   "metadata": {},
   "outputs": [],
   "source": [
    "#Seta o path da camada prata onde foram persistidos as informacões de posição dos ônibus\n",
    "prata= 's3a://prata/POSICAO_PARQUET/' +  str_lasthour + \"/\"\n",
    "#prata= 's3a://prata/POSICAO_PARQUET/*'"
   ]
  },
  {
   "cell_type": "code",
   "execution_count": 11,
   "id": "de9f0777-b867-4543-8b06-8d1c3175ccc5",
   "metadata": {},
   "outputs": [],
   "source": [
    "#Seta o path da camada ouro onde serão persistidos a média de ônibus circulando por linha por hora\n",
    "ouro_avg_linha= 's3a://ouro/MEDIA_ONIBUS_POR_LINHA/' +  str_lasthour + \"/\""
   ]
  },
  {
   "cell_type": "code",
   "execution_count": 12,
   "id": "3dbcc200-d7f7-49ce-9d38-8889bff3c37c",
   "metadata": {},
   "outputs": [],
   "source": [
    "#Seta o path da camada ouro onde serão persistidos o total médio de ônibus circulando por hora\n",
    "ouro_avg_geral= 's3a://ouro/MEDIA_ONIBUS_GERAL/' +  str_lasthour + \"/\""
   ]
  },
  {
   "cell_type": "code",
   "execution_count": 13,
   "id": "f750e714-9a90-4a92-8b06-4c704f7d3c71",
   "metadata": {},
   "outputs": [],
   "source": [
    "#Seta o path da camada ouro onde serão persistidos o total por linha de onibus circulando em cada medição\n",
    "ouro_total_linha= 's3a://ouro/TOTAL_ONIBUS_POR_LINHA/' +  str_lasthour + \"/\""
   ]
  },
  {
   "cell_type": "code",
   "execution_count": 14,
   "id": "70a4fe3f-7a2c-426a-81a3-1261f3e78126",
   "metadata": {},
   "outputs": [],
   "source": [
    "#Seta o path da camada ouro onde serão persistidos o total de ônibus circulando em cada medição\n",
    "ouro_total_geral= 's3a://ouro/TOTAL_ONIBUS_GERAL/' +  str_lasthour + \"/\""
   ]
  },
  {
   "cell_type": "code",
   "execution_count": 15,
   "id": "94f8175c-d6b9-40aa-88bb-4a48e409f03e",
   "metadata": {},
   "outputs": [
    {
     "name": "stdout",
     "output_type": "stream",
     "text": [
      "s3a://prata/POSICAO_PARQUET/2024/09/18/21/\n",
      "s3a://ouro/MEDIA_ONIBUS_POR_LINHA/2024/09/18/21/\n",
      "s3a://ouro/MEDIA_ONIBUS_GERAL/2024/09/18/21/\n",
      "s3a://ouro/TOTAL_ONIBUS_POR_LINHA/2024/09/18/21/\n",
      "s3a://ouro/TOTAL_ONIBUS_GERAL/2024/09/18/21/\n"
     ]
    }
   ],
   "source": [
    "print(prata)\n",
    "print(ouro_avg_linha)\n",
    "print(ouro_avg_geral)\n",
    "print(ouro_total_linha)\n",
    "print(ouro_total_geral)"
   ]
  },
  {
   "cell_type": "code",
   "execution_count": 16,
   "id": "96993f66-eae5-4a4f-be34-6c79d2284e8c",
   "metadata": {},
   "outputs": [],
   "source": [
    "#Lê os arquivos da camada prata com as infos retornados pela API Posicao\n",
    "df_prata= spark.read.parquet(prata)"
   ]
  },
  {
   "cell_type": "code",
   "execution_count": 17,
   "id": "2a6cf03a-71fb-4efc-a032-8db00730e652",
   "metadata": {},
   "outputs": [
    {
     "name": "stdout",
     "output_type": "stream",
     "text": [
      "root\n",
      " |-- data_ref: string (nullable = true)\n",
      " |-- hora_ref: string (nullable = true)\n",
      " |-- cod_onibus: long (nullable = true)\n",
      " |-- sentido_linha: long (nullable = true)\n",
      " |-- let_cod_linha: string (nullable = true)\n",
      " |-- let_destino: string (nullable = true)\n",
      " |-- let_origem: string (nullable = true)\n",
      " |-- timestamp_pos: timestamp (nullable = true)\n",
      " |-- latitude_pos: double (nullable = true)\n",
      " |-- longitude_pos: double (nullable = true)\n",
      " |-- id_linha: long (nullable = true)\n",
      " |-- qtde_onibus: long (nullable = true)\n",
      "\n"
     ]
    }
   ],
   "source": [
    "#Exibe o schema \n",
    "df_prata.printSchema()"
   ]
  },
  {
   "cell_type": "code",
   "execution_count": 18,
   "id": "98f557fc-155f-4d4f-8af0-42fcaa9af443",
   "metadata": {},
   "outputs": [
    {
     "data": {
      "text/plain": [
       "28030"
      ]
     },
     "execution_count": 18,
     "metadata": {},
     "output_type": "execute_result"
    }
   ],
   "source": [
    "df_prata.count()"
   ]
  },
  {
   "cell_type": "code",
   "execution_count": 19,
   "id": "536aab53-7302-4944-be40-c08b302e6ad1",
   "metadata": {},
   "outputs": [
    {
     "name": "stdout",
     "output_type": "stream",
     "text": [
      "+--------+--------+----------+-------------+-------------+-----------+----------+-------------------+-------------------+-------------------+--------+-----------+\n",
      "|data_ref|hora_ref|cod_onibus|sentido_linha|let_cod_linha|let_destino|let_origem|      timestamp_pos|       latitude_pos|      longitude_pos|id_linha|qtde_onibus|\n",
      "+--------+--------+----------+-------------+-------------+-----------+----------+-------------------+-------------------+-------------------+--------+-----------+\n",
      "|20240918|   21:07|     68116|            2|      5010-10| STO. AMARO| JABAQUARA|2024-09-18 21:07:16|       -46.67079125|        -23.6381705|   33882|          7|\n",
      "|20240918|   21:07|     68630|            2|      5010-10| STO. AMARO| JABAQUARA|2024-09-18 21:06:53|-46.631516500000004|         -23.662217|   33882|          7|\n",
      "|20240918|   21:07|     68409|            2|      5010-10| STO. AMARO| JABAQUARA|2024-09-18 21:06:44|-46.660439499999995|         -23.647402|   33882|          7|\n",
      "|20240918|   21:07|     68383|            2|      5010-10| STO. AMARO| JABAQUARA|2024-09-18 21:06:42|-46.635681250000005|-23.663188249999997|   33882|          7|\n",
      "|20240918|   21:07|     68212|            2|      5010-10| STO. AMARO| JABAQUARA|2024-09-18 21:06:41|         -46.631309|        -23.6624725|   33882|          7|\n",
      "+--------+--------+----------+-------------+-------------+-----------+----------+-------------------+-------------------+-------------------+--------+-----------+\n",
      "only showing top 5 rows\n",
      "\n"
     ]
    }
   ],
   "source": [
    "df_prata.show(5)"
   ]
  },
  {
   "cell_type": "code",
   "execution_count": 20,
   "id": "5161415d-0eaf-49b0-96d8-85ac378b0449",
   "metadata": {},
   "outputs": [],
   "source": [
    "#####################################################################################################\n",
    "#\n",
    "# Cria dataframe com a quantidade de ônibus circulando por linha em cada medição\n",
    "#"
   ]
  },
  {
   "cell_type": "code",
   "execution_count": 21,
   "id": "1b8b8947-727c-4107-b017-2882697025d7",
   "metadata": {},
   "outputs": [],
   "source": [
    "df_group_time=df_prata.groupby('data_ref','hora_ref',substring('hora_ref',0,2).alias('hora_id_ref'),'id_linha','sentido_linha','let_cod_linha','let_destino','let_origem').agg( max('qtde_onibus').alias('qtde_onibus'))"
   ]
  },
  {
   "cell_type": "code",
   "execution_count": 22,
   "id": "41aadb86-8ac3-4f6e-9748-e1ec684a70d5",
   "metadata": {},
   "outputs": [
    {
     "name": "stdout",
     "output_type": "stream",
     "text": [
      "+--------+--------+-----------+--------+-------------+-------------+------------------+------------------+-----------+\n",
      "|data_ref|hora_ref|hora_id_ref|id_linha|sentido_linha|let_cod_linha|       let_destino|        let_origem|qtde_onibus|\n",
      "+--------+--------+-----------+--------+-------------+-------------+------------------+------------------+-----------+\n",
      "|20240918|   21:07|         21|     111|            1|      675X-10|     AACD-SERVIDOR|      TERM. GRAJAÚ|          8|\n",
      "|20240918|   21:07|         21|   33158|            2|      273N-10| METRÔ VL. MATILDE|     CID. KEMEL II|         10|\n",
      "|20240918|   21:07|         21|    1280|            1|      5106-10|LGO. SÃO FRANCISCO|         JD. SELMA|          5|\n",
      "|20240918|   21:07|         21|   34788|            2|      709G-10|        ITAIM BIBI|TERM. GUARAPIRANGA|          2|\n",
      "|20240918|   21:07|         21|    2462|            1|      709M-10|   TERM. PINHEIROS|  TERM. STO. AMARO|          8|\n",
      "+--------+--------+-----------+--------+-------------+-------------+------------------+------------------+-----------+\n",
      "only showing top 5 rows\n",
      "\n"
     ]
    }
   ],
   "source": [
    "df_group_time.show(5)"
   ]
  },
  {
   "cell_type": "code",
   "execution_count": 23,
   "id": "38fd74d1-c138-42d9-8d2f-6c9e238fa3c1",
   "metadata": {},
   "outputs": [],
   "source": [
    "#####################################################################################################\n",
    "#\n",
    "# Calcula a quantidade de ônibus por linha em circulação a cada medição\n",
    "#"
   ]
  },
  {
   "cell_type": "code",
   "execution_count": 24,
   "id": "0f1bbbc7-56ff-4ac0-a7de-75c6eab35ac0",
   "metadata": {},
   "outputs": [],
   "source": [
    "df_total_linha= df_group_time.select('data_ref','hora_ref','id_linha','sentido_linha','let_cod_linha','let_destino','let_origem','qtde_onibus')"
   ]
  },
  {
   "cell_type": "code",
   "execution_count": 25,
   "id": "397412be-1629-4b1c-975c-11441eeee334",
   "metadata": {},
   "outputs": [
    {
     "name": "stdout",
     "output_type": "stream",
     "text": [
      "+--------+--------+--------+-------------+-------------+------------------+------------------+-----------+\n",
      "|data_ref|hora_ref|id_linha|sentido_linha|let_cod_linha|       let_destino|        let_origem|qtde_onibus|\n",
      "+--------+--------+--------+-------------+-------------+------------------+------------------+-----------+\n",
      "|20240918|   21:07|     111|            1|      675X-10|     AACD-SERVIDOR|      TERM. GRAJAÚ|          8|\n",
      "|20240918|   21:07|   33158|            2|      273N-10| METRÔ VL. MATILDE|     CID. KEMEL II|         10|\n",
      "|20240918|   21:07|    1280|            1|      5106-10|LGO. SÃO FRANCISCO|         JD. SELMA|          5|\n",
      "|20240918|   21:07|   34788|            2|      709G-10|        ITAIM BIBI|TERM. GUARAPIRANGA|          2|\n",
      "|20240918|   21:07|    2462|            1|      709M-10|   TERM. PINHEIROS|  TERM. STO. AMARO|          8|\n",
      "+--------+--------+--------+-------------+-------------+------------------+------------------+-----------+\n",
      "only showing top 5 rows\n",
      "\n"
     ]
    }
   ],
   "source": [
    "df_total_linha.show(5)"
   ]
  },
  {
   "cell_type": "code",
   "execution_count": 26,
   "id": "9f6dca4c-9603-4b7f-825d-db0a9b264817",
   "metadata": {},
   "outputs": [],
   "source": [
    "#####################################################################################################\n",
    "#\n",
    "# Calcula a quantidade média por hora do número de ônibus por linha circulando\n",
    "#"
   ]
  },
  {
   "cell_type": "code",
   "execution_count": 27,
   "id": "d24b98c0-df16-43fa-865d-d85c641653a5",
   "metadata": {},
   "outputs": [],
   "source": [
    "#df_group_time.groupby('hr_id','c','cl','sl','lt0','lt1').agg( ceil(avg('qv')).alias('avg_qv')).show()"
   ]
  },
  {
   "cell_type": "code",
   "execution_count": 28,
   "id": "9619341f-419d-4d38-a81c-aeed9de5ace5",
   "metadata": {},
   "outputs": [],
   "source": [
    "df_avg_hr_linha=df_group_time.groupby('data_ref','hora_id_ref','id_linha','sentido_linha','let_cod_linha','let_destino','let_origem').agg( ceil(avg('qtde_onibus')).alias('qtde_onibus'))"
   ]
  },
  {
   "cell_type": "code",
   "execution_count": 29,
   "id": "e47c41b1-c877-4c29-a95d-aca959cbbd42",
   "metadata": {},
   "outputs": [
    {
     "name": "stdout",
     "output_type": "stream",
     "text": [
      "+--------+-----------+--------+-------------+-------------+--------------------+--------------------+-----------+\n",
      "|data_ref|hora_id_ref|id_linha|sentido_linha|let_cod_linha|         let_destino|          let_origem|qtde_onibus|\n",
      "+--------+-----------+--------+-------------+-------------+--------------------+--------------------+-----------+\n",
      "|20240918|         21|    2190|            1|      4017-10|         VL. YOLANDA|        METALÚRGICOS|          4|\n",
      "|20240918|         21|     917|            1|      2705-10|      METRÔ ITAQUERA|      JD. FANGANIELO|          3|\n",
      "|20240918|         21|   35037|            2|      2026-10|      PQ. NOVO MUNDO|              JAÇANÃ|          1|\n",
      "|20240918|         21|   33280|            2|      7903-10|PÇA. RAMOS DE AZE...|JD. JOÃO XXIII/EDUC.|          5|\n",
      "|20240918|         21|     353|            1|      5154-10| TERM. PRINC. ISABEL|    TERM. STO. AMARO|          4|\n",
      "+--------+-----------+--------+-------------+-------------+--------------------+--------------------+-----------+\n",
      "only showing top 5 rows\n",
      "\n"
     ]
    }
   ],
   "source": [
    "df_avg_hr_linha.show(5)"
   ]
  },
  {
   "cell_type": "code",
   "execution_count": 30,
   "id": "1b532bc5-1547-4bdf-a6cb-7757b8128cf7",
   "metadata": {},
   "outputs": [],
   "source": [
    "#####################################################################################################\n",
    "#\n",
    "# Calcula a quantidade total geral a cada medição, dos ônibus em circulação\n",
    "#"
   ]
  },
  {
   "cell_type": "code",
   "execution_count": 31,
   "id": "77bb2aed-f054-4377-9fbc-d215c7171988",
   "metadata": {},
   "outputs": [],
   "source": [
    "#df_group_time.groupby('hr').agg( sum('qv')).alias('total_geral_qv').show()"
   ]
  },
  {
   "cell_type": "code",
   "execution_count": 32,
   "id": "b4e29b6b-10f8-4a36-9b7a-ae21b9eb3609",
   "metadata": {},
   "outputs": [],
   "source": [
    "df_total_geral_aux=df_group_time.groupby('data_ref','hora_id_ref','hora_ref').agg( sum('qtde_onibus').alias('qtde_onibus'))"
   ]
  },
  {
   "cell_type": "code",
   "execution_count": 33,
   "id": "e0afe52f-f8b7-4685-b7ec-438cc155a916",
   "metadata": {},
   "outputs": [
    {
     "name": "stdout",
     "output_type": "stream",
     "text": [
      "+--------+-----------+--------+-----------+\n",
      "|data_ref|hora_id_ref|hora_ref|qtde_onibus|\n",
      "+--------+-----------+--------+-----------+\n",
      "|20240918|         21|   21:07|       9335|\n",
      "|20240918|         21|   21:12|       9247|\n",
      "|20240918|         21|   21:02|       9448|\n",
      "+--------+-----------+--------+-----------+\n",
      "\n"
     ]
    }
   ],
   "source": [
    "df_total_geral_aux.show(5)"
   ]
  },
  {
   "cell_type": "code",
   "execution_count": 34,
   "id": "8ef8c3f2-8530-4847-a463-2987954b85e5",
   "metadata": {},
   "outputs": [],
   "source": [
    "df_total_geral= df_total_geral_aux.select('data_ref','hora_ref','qtde_onibus')"
   ]
  },
  {
   "cell_type": "code",
   "execution_count": 35,
   "id": "7ad97b90-0274-4709-b06a-60a5a45802d3",
   "metadata": {},
   "outputs": [
    {
     "name": "stdout",
     "output_type": "stream",
     "text": [
      "+--------+--------+-----------+\n",
      "|data_ref|hora_ref|qtde_onibus|\n",
      "+--------+--------+-----------+\n",
      "|20240918|   21:07|       9335|\n",
      "|20240918|   21:12|       9247|\n",
      "|20240918|   21:02|       9448|\n",
      "+--------+--------+-----------+\n",
      "\n"
     ]
    }
   ],
   "source": [
    "df_total_geral.show(5)"
   ]
  },
  {
   "cell_type": "code",
   "execution_count": 36,
   "id": "6a1ce295-bd59-44dc-a9b8-a5a38bc21968",
   "metadata": {},
   "outputs": [],
   "source": [
    "#####################################################################################################\n",
    "#\n",
    "# Calcula a média geral por hora do número de ônibus em circulação\n",
    "#"
   ]
  },
  {
   "cell_type": "code",
   "execution_count": 37,
   "id": "d1b4eee1-7729-4256-aa1a-07eaacdea3cb",
   "metadata": {},
   "outputs": [],
   "source": [
    "df_avg_geral= df_total_geral_aux.groupby('data_ref','hora_id_ref').agg( ceil(avg('qtde_onibus')).alias('qtde_onibus'))"
   ]
  },
  {
   "cell_type": "code",
   "execution_count": 38,
   "id": "782a3ff6-3e94-4ed2-a767-234eb8a4e462",
   "metadata": {},
   "outputs": [
    {
     "name": "stdout",
     "output_type": "stream",
     "text": [
      "+--------+-----------+-----------+\n",
      "|data_ref|hora_id_ref|qtde_onibus|\n",
      "+--------+-----------+-----------+\n",
      "|20240918|         21|       9344|\n",
      "+--------+-----------+-----------+\n",
      "\n"
     ]
    }
   ],
   "source": [
    "df_avg_geral.show()"
   ]
  },
  {
   "cell_type": "code",
   "execution_count": 39,
   "id": "f50302d1-bf9b-4a05-9556-4e2670da698d",
   "metadata": {},
   "outputs": [],
   "source": [
    "#####################################################################################################\n",
    "#\n",
    "# Gravação dos dataframe na camada Ouro em formato parquet:\n",
    "# 1. A quantidade de ônibus por linha em circulação a cada medição\n",
    "# 2. A quantidade total geral de ônibus em circulação a cada medição\n",
    "# 3. A média de ônibus por linha circulando por hora\n",
    "# 4. A média geral de ônibus circulando por hora\n",
    "#"
   ]
  },
  {
   "cell_type": "code",
   "execution_count": 40,
   "id": "daaecafe-63ab-446b-aaec-a67d72f44dcf",
   "metadata": {},
   "outputs": [],
   "source": [
    "df_total_linha.write.parquet(ouro_total_linha, mode='overwrite')"
   ]
  },
  {
   "cell_type": "code",
   "execution_count": 41,
   "id": "5b289fa0-a43e-42cb-94cb-f9b5f1acf438",
   "metadata": {},
   "outputs": [],
   "source": [
    "df_total_geral.write.parquet(ouro_total_geral, mode='overwrite')"
   ]
  },
  {
   "cell_type": "code",
   "execution_count": 42,
   "id": "4a9b1286-c1ad-4e36-b455-11aa55164b30",
   "metadata": {},
   "outputs": [],
   "source": [
    "df_avg_hr_linha.write.parquet(ouro_avg_linha, mode='overwrite')"
   ]
  },
  {
   "cell_type": "code",
   "execution_count": 43,
   "id": "a131b880-3f10-48c0-a230-26911b89cfbc",
   "metadata": {},
   "outputs": [],
   "source": [
    "df_avg_geral.write.parquet(ouro_avg_geral, mode='overwrite')"
   ]
  },
  {
   "cell_type": "code",
   "execution_count": 44,
   "id": "b6f9fbb9-5a9e-493a-992f-e36ec64d0a82",
   "metadata": {},
   "outputs": [],
   "source": [
    "#####################################################################################################\n",
    "#\n",
    "# Gravação dos dataframe na base de dados Postgres:\n",
    "# 1. A quantidade de ônibus por linha em circulação a cada medição\n",
    "# 2. A quantidade total geral de ônibus em circulação a cada medição\n",
    "# 3. A média de ônibus por linha circulando por hora\n",
    "# 4. A média geral de ônibus circulando por hora\n",
    "#"
   ]
  },
  {
   "cell_type": "code",
   "execution_count": 45,
   "id": "04dab99e-297f-4184-9af2-17917324ce65",
   "metadata": {},
   "outputs": [],
   "source": [
    "#configuração das informações de conexão com a base de dados Postgres"
   ]
  },
  {
   "cell_type": "code",
   "execution_count": 46,
   "id": "b220944b-57c8-4cbf-9394-f92f13a440dc",
   "metadata": {},
   "outputs": [],
   "source": [
    "url = \"jdbc:postgresql://db:5432/dvdrental\"\n",
    "\n",
    "properties = {\n",
    "\"user\": \"admin\",\n",
    "\"password\": \"admin\",\n",
    "\"driver\": \"org.postgresql.Driver\"\n",
    "}"
   ]
  },
  {
   "cell_type": "code",
   "execution_count": 47,
   "id": "ec483d92-ec5a-43b8-8cc0-68fa4539828b",
   "metadata": {},
   "outputs": [],
   "source": [
    "#gravação dos dataframes nas tabelas stages "
   ]
  },
  {
   "cell_type": "code",
   "execution_count": 48,
   "id": "b4679123-f8a2-401c-8518-130f0e58a04c",
   "metadata": {},
   "outputs": [],
   "source": [
    "df_total_linha.write.jdbc( url=url, table='sptrans.total_onibus_por_linha_stage',mode=\"overwrite\", properties= properties)"
   ]
  },
  {
   "cell_type": "code",
   "execution_count": 49,
   "id": "122c70df-833e-4e88-9a87-c62a4ca1363f",
   "metadata": {},
   "outputs": [],
   "source": [
    "df_total_geral.write.jdbc( url=url, table='sptrans.total_onibus_geral_stage',mode=\"overwrite\", properties= properties)"
   ]
  },
  {
   "cell_type": "code",
   "execution_count": 50,
   "id": "58fd3573-6b12-4f86-b2d6-bd8f07dba215",
   "metadata": {},
   "outputs": [],
   "source": [
    "df_avg_hr_linha.write.jdbc( url=url, table='sptrans.media_onibus_por_linha_stage',mode=\"overwrite\", properties= properties)"
   ]
  },
  {
   "cell_type": "code",
   "execution_count": 51,
   "id": "734c44e6-1d37-43c5-ad3e-e789c898deb1",
   "metadata": {},
   "outputs": [],
   "source": [
    "df_avg_geral.write.jdbc( url=url, table='sptrans.media_onibus_geral_stage',mode=\"overwrite\", properties= properties)"
   ]
  },
  {
   "cell_type": "code",
   "execution_count": 52,
   "id": "51c9fe60-a3f5-47ce-a267-19c300a1c427",
   "metadata": {},
   "outputs": [],
   "source": [
    "##################################################################\n",
    "#\n",
    "# upsert dos dados das stages nas tabelas fatos\n",
    "#"
   ]
  },
  {
   "cell_type": "code",
   "execution_count": 53,
   "id": "8837bec3-3aa9-4a6e-bc14-3e30725f763e",
   "metadata": {},
   "outputs": [],
   "source": [
    "import psycopg2\n",
    "from psycopg2 import sql"
   ]
  },
  {
   "cell_type": "code",
   "execution_count": 54,
   "id": "25d32e80-dfb1-4512-baab-3ddfb28eab95",
   "metadata": {},
   "outputs": [],
   "source": [
    "#conexão na base de dados Postgres\n",
    "conn = psycopg2.connect(\n",
    "    dbname=\"dvdrental\",\n",
    "    user=\"admin\",\n",
    "    password=\"admin\",\n",
    "    host=\"db\",\n",
    "    port=\"5432\"\n",
    ")\n",
    "\n",
    "# Criar um cursor\n",
    "cur = conn.cursor()"
   ]
  },
  {
   "cell_type": "code",
   "execution_count": 55,
   "id": "f4d5569d-6535-4c6e-a56a-d92077b948dc",
   "metadata": {},
   "outputs": [],
   "source": [
    "# Upsert na tabela total_onibus_geral_por_linha com as linhas da respectiva tabela stage"
   ]
  },
  {
   "cell_type": "code",
   "execution_count": 56,
   "id": "89a33093-6d3d-4564-a329-e2af8b40a529",
   "metadata": {},
   "outputs": [],
   "source": [
    "query = \"\"\"\n",
    "INSERT INTO sptrans.total_onibus_por_linha(data_ref, hora_ref, id_linha, sentido_linha, let_cod_linha, let_destino, let_origem, qtde_onibus)\n",
    "   SELECT data_ref, hora_ref, id_linha, sentido_linha, let_cod_linha, let_destino, let_origem, qtde_onibus\n",
    "   FROM sptrans.total_onibus_por_linha_stage\n",
    "ON CONFLICT (data_ref, hora_ref, id_linha) \n",
    "DO UPDATE SET \n",
    "    sentido_linha = EXCLUDED.sentido_linha,\n",
    "    let_cod_linha = EXCLUDED.let_cod_linha,\n",
    "    let_destino = EXCLUDED.let_destino,\n",
    "    let_origem = EXCLUDED.let_origem,\n",
    "    qtde_onibus = EXCLUDED.qtde_onibus;\n",
    "\"\"\""
   ]
  },
  {
   "cell_type": "code",
   "execution_count": 57,
   "id": "9d6270cd-4ae5-44c2-9e3f-b6d60bd05f94",
   "metadata": {},
   "outputs": [],
   "source": [
    "# Executar a consulta\n",
    "cur.execute(query)"
   ]
  },
  {
   "cell_type": "code",
   "execution_count": 58,
   "id": "077290cd-b8b1-4d6f-99f3-972d83a95f42",
   "metadata": {},
   "outputs": [],
   "source": [
    "# Commit das mudanças\n",
    "#conn.commit()"
   ]
  },
  {
   "cell_type": "code",
   "execution_count": 59,
   "id": "c76ac485-bc15-40dd-b581-a9eeeef9121f",
   "metadata": {},
   "outputs": [],
   "source": [
    "# Upsert na tabela total_onibus_geral com as linhas da respectiva tabela stage"
   ]
  },
  {
   "cell_type": "code",
   "execution_count": 60,
   "id": "10d69540-8f44-434e-83d4-9bc3e4396662",
   "metadata": {},
   "outputs": [],
   "source": [
    "query = \"\"\"\n",
    "INSERT INTO sptrans.total_onibus_geral(data_ref, hora_ref, qtde_onibus)\n",
    "   SELECT data_ref, hora_ref, qtde_onibus\n",
    "   FROM sptrans.total_onibus_geral_stage\n",
    "ON CONFLICT (data_ref, hora_ref) \n",
    "DO UPDATE SET \n",
    "    qtde_onibus = EXCLUDED.qtde_onibus;\n",
    "\"\"\""
   ]
  },
  {
   "cell_type": "code",
   "execution_count": 61,
   "id": "2669d5f9-f112-4c7f-956c-b3538a8d43da",
   "metadata": {},
   "outputs": [],
   "source": [
    "# Executar a consulta\n",
    "cur.execute(query)"
   ]
  },
  {
   "cell_type": "code",
   "execution_count": 62,
   "id": "9913dc75-5dee-4279-a236-a1c0d5958e8b",
   "metadata": {},
   "outputs": [],
   "source": [
    "# Commit das mudanças\n",
    "#conn.commit()"
   ]
  },
  {
   "cell_type": "code",
   "execution_count": 63,
   "id": "cf972134-0050-498f-902a-ee376925392c",
   "metadata": {},
   "outputs": [],
   "source": [
    "# Upsert na tabela media_onibus_por_linha com as linhas da respectiva tabela stage"
   ]
  },
  {
   "cell_type": "code",
   "execution_count": 64,
   "id": "4cce151f-22c4-49a7-a9fd-2eb8980aedd0",
   "metadata": {},
   "outputs": [],
   "source": [
    "query = \"\"\"\n",
    "INSERT INTO sptrans.media_onibus_por_linha(data_ref, hora_id_ref, id_linha, sentido_linha, let_cod_linha, let_destino, let_origem, qtde_onibus)\n",
    "   SELECT data_ref, hora_id_ref, id_linha, sentido_linha, let_cod_linha, let_destino, let_origem, qtde_onibus\n",
    "   FROM sptrans.media_onibus_por_linha_stage\n",
    "ON CONFLICT (data_ref, hora_id_ref, id_linha) \n",
    "DO UPDATE SET \n",
    "    sentido_linha = EXCLUDED.sentido_linha,\n",
    "    let_cod_linha = EXCLUDED.let_cod_linha,\n",
    "    let_destino = EXCLUDED.let_destino,\n",
    "    let_origem = EXCLUDED.let_origem,\n",
    "    qtde_onibus = EXCLUDED.qtde_onibus;\n",
    "\"\"\""
   ]
  },
  {
   "cell_type": "code",
   "execution_count": 65,
   "id": "3719d292-4977-4e1c-b1d0-9596522ca310",
   "metadata": {},
   "outputs": [],
   "source": [
    "# Executar a consulta\n",
    "cur.execute(query)"
   ]
  },
  {
   "cell_type": "code",
   "execution_count": 66,
   "id": "6f3d6f69-2d26-4a66-b683-7e22b0690866",
   "metadata": {},
   "outputs": [],
   "source": [
    "# Commit das mudanças\n",
    "#conn.commit()"
   ]
  },
  {
   "cell_type": "code",
   "execution_count": 67,
   "id": "cdff1b31-b221-44ed-99dd-9d1fa4e14d78",
   "metadata": {},
   "outputs": [],
   "source": [
    "# Upsert na tabela media_onibus_geral com as linhas da respectiva tabela stage"
   ]
  },
  {
   "cell_type": "code",
   "execution_count": 68,
   "id": "42e05a36-6c9c-4311-8fdc-0fda07a23ea7",
   "metadata": {},
   "outputs": [],
   "source": [
    "query = \"\"\"\n",
    "INSERT INTO sptrans.media_onibus_geral(data_ref, hora_id_ref, qtde_onibus)\n",
    "   SELECT data_ref, hora_id_ref, qtde_onibus\n",
    "   FROM sptrans.media_onibus_geral_stage\n",
    "ON CONFLICT (data_ref, hora_id_ref) \n",
    "DO UPDATE SET \n",
    "    qtde_onibus = EXCLUDED.qtde_onibus;\n",
    "\"\"\""
   ]
  },
  {
   "cell_type": "code",
   "execution_count": 69,
   "id": "edb55fa0-585b-42b1-932f-e0b2ea3c2c81",
   "metadata": {},
   "outputs": [],
   "source": [
    "# Executar a consulta\n",
    "cur.execute(query)"
   ]
  },
  {
   "cell_type": "code",
   "execution_count": 70,
   "id": "e17b387d-48e0-4b45-95b7-1a03e528dd80",
   "metadata": {},
   "outputs": [],
   "source": [
    "# Commit das mudanças\n",
    "conn.commit()"
   ]
  },
  {
   "cell_type": "code",
   "execution_count": 71,
   "id": "38f64971-06e2-48ce-b345-b16fdb2fbb6a",
   "metadata": {},
   "outputs": [],
   "source": [
    "# Fechar o cursor e a conexão\n",
    "cur.close()\n",
    "conn.close()"
   ]
  },
  {
   "cell_type": "code",
   "execution_count": 72,
   "id": "5278d159-a7a3-42f2-bea1-9620fa37fe49",
   "metadata": {},
   "outputs": [],
   "source": [
    "#####################################################################################################\n",
    "#\n",
    "# Fim do processamento"
   ]
  },
  {
   "cell_type": "code",
   "execution_count": null,
   "id": "400b2405-1a6b-45b3-bad3-4a0a9ceec81d",
   "metadata": {},
   "outputs": [],
   "source": []
  }
 ],
 "metadata": {
  "kernelspec": {
   "display_name": "Python 3 (ipykernel)",
   "language": "python",
   "name": "python3"
  },
  "language_info": {
   "codemirror_mode": {
    "name": "ipython",
    "version": 3
   },
   "file_extension": ".py",
   "mimetype": "text/x-python",
   "name": "python",
   "nbconvert_exporter": "python",
   "pygments_lexer": "ipython3",
   "version": "3.10.8"
  }
 },
 "nbformat": 4,
 "nbformat_minor": 5
}
