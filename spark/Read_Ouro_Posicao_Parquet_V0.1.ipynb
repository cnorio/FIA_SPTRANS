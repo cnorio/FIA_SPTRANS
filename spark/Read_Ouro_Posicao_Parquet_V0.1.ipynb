{
 "cells": [
  {
   "cell_type": "code",
   "execution_count": 16,
   "id": "6c0912a3-8391-4d1d-862a-5b8c6063422c",
   "metadata": {},
   "outputs": [],
   "source": [
    "#####################################################################################################\n",
    "#\n",
    "# Lê os arquivos da camada ouro, que foram gerados a partir das informações da camada prata com os\n",
    "# dados da API Posicao da SPTRANS\n",
    "# \n"
   ]
  },
  {
   "cell_type": "code",
   "execution_count": 17,
   "id": "bdd464f0-36f4-4334-971f-d6d2ad7f6641",
   "metadata": {},
   "outputs": [],
   "source": [
    "from pyspark.sql import SparkSession"
   ]
  },
  {
   "cell_type": "code",
   "execution_count": 18,
   "id": "2f7de449-d55c-40f8-856d-03235ba5a5ff",
   "metadata": {},
   "outputs": [],
   "source": [
    "from pyspark.sql.functions import explode"
   ]
  },
  {
   "cell_type": "code",
   "execution_count": 19,
   "id": "cdbfea58-0c8d-4863-a991-c3976be5ed25",
   "metadata": {},
   "outputs": [],
   "source": [
    "from pyspark.sql.functions import from_utc_timestamp,split, substring, sum, avg, max,filter, ceil"
   ]
  },
  {
   "cell_type": "code",
   "execution_count": 20,
   "id": "3a681805-2b27-4b37-85cc-5853fe7b67ab",
   "metadata": {},
   "outputs": [],
   "source": [
    "from datetime import datetime, timedelta\n",
    "import zoneinfo as zi"
   ]
  },
  {
   "cell_type": "code",
   "execution_count": 21,
   "id": "19a99a39-bf4f-42a8-9f1a-03d78c919ad7",
   "metadata": {},
   "outputs": [],
   "source": [
    "spark = SparkSession.builder.appName(\"FIA-Proj-SPTRANS-Ouro\").enableHiveSupport().getOrCreate()"
   ]
  },
  {
   "cell_type": "code",
   "execution_count": 22,
   "id": "3e732029-6d8f-406b-92c3-44f2417165fc",
   "metadata": {},
   "outputs": [],
   "source": [
    "#####################################################################################################\n",
    "#\n",
    "# Leitura dos arquivos JSON ingeridos pelo NIFI da API Posicao, referentes a hora anterior a atual\n",
    "#"
   ]
  },
  {
   "cell_type": "code",
   "execution_count": 23,
   "id": "231c4191-edb7-4d1b-a7b8-db2f81382640",
   "metadata": {},
   "outputs": [],
   "source": [
    "#Calcula da hora anterior\n",
    "GMT = zi.ZoneInfo('GMT')\n",
    "LOCAL_TZ_STR='America/Sao_Paulo'\n",
    "LOCAL_TZ = zi.ZoneInfo(LOCAL_TZ_STR)\n",
    "\n",
    "dt_localtime=datetime.now(tz=LOCAL_TZ)\n",
    "dt_lasthour= dt_localtime - timedelta(hours=13)\n",
    "\n",
    "str_lasthour= dt_lasthour.strftime('%Y/%m/%d/%H')\n"
   ]
  },
  {
   "cell_type": "code",
   "execution_count": 24,
   "id": "de9f0777-b867-4543-8b06-8d1c3175ccc5",
   "metadata": {},
   "outputs": [],
   "source": [
    "#Seta o path da camada ouro onde foram persistidos a média de nibus circulando por linha por hora\n",
    "ouro_avg_linha= 's3a://ouro/MEDIA_ONIBUS_POR_LINHA/' +  str_lasthour + \"/\""
   ]
  },
  {
   "cell_type": "code",
   "execution_count": 25,
   "id": "3dbcc200-d7f7-49ce-9d38-8889bff3c37c",
   "metadata": {},
   "outputs": [],
   "source": [
    "#Seta o path da camada ouro onde foram persistidos o total médio de ônibus circulando por hora\n",
    "ouro_avg_geral= 's3a://ouro/MEDIA_ONIBUS_GERAL/' +  str_lasthour + \"/\""
   ]
  },
  {
   "cell_type": "code",
   "execution_count": 26,
   "id": "f750e714-9a90-4a92-8b06-4c704f7d3c71",
   "metadata": {},
   "outputs": [],
   "source": [
    "#Seta o path da camada ouro onde ^foram persistidos o total por linha de ônibus circulando em cada medição\n",
    "ouro_total_linha= 's3a://ouro/TOTAL_ONIBUS_POR_LINHA/' +  str_lasthour + \"/\""
   ]
  },
  {
   "cell_type": "code",
   "execution_count": 27,
   "id": "70a4fe3f-7a2c-426a-81a3-1261f3e78126",
   "metadata": {},
   "outputs": [],
   "source": [
    "#Seta o path da camada ouro onde foram persistidos o total de ônibus circulando em cada medição\n",
    "ouro_total_geral= 's3a://ouro/TOTAL_ONIBUS_GERAL/' +  str_lasthour + \"/\""
   ]
  },
  {
   "cell_type": "code",
   "execution_count": 28,
   "id": "94f8175c-d6b9-40aa-88bb-4a48e409f03e",
   "metadata": {},
   "outputs": [
    {
     "name": "stdout",
     "output_type": "stream",
     "text": [
      "s3a://ouro/MEDIA_ONIBUS_POR_LINHA/2024/09/17/17/\n",
      "s3a://ouro/MEDIA_ONIBUS_GERAL/2024/09/17/17/\n",
      "s3a://ouro/TOTAL_ONIBUS_POR_LINHA/2024/09/17/17/\n",
      "s3a://ouro/TOTAL_ONIBUS_GERAL/2024/09/17/17/\n"
     ]
    }
   ],
   "source": [
    "print(ouro_avg_linha)\n",
    "print(ouro_avg_geral)\n",
    "print(ouro_total_linha)\n",
    "print(ouro_total_geral)"
   ]
  },
  {
   "cell_type": "code",
   "execution_count": 29,
   "id": "83af6eac-04d4-4b35-99f9-75db727da6ba",
   "metadata": {},
   "outputs": [],
   "source": [
    "#####################################################################################################\n",
    "#\n",
    "# Lê os arquivos parquet da camada ouro\n",
    "#"
   ]
  },
  {
   "cell_type": "code",
   "execution_count": 30,
   "id": "c54b7b87-7a79-40c8-a9e8-ed3ba30ba0f5",
   "metadata": {},
   "outputs": [],
   "source": [
    "df_total_linha= spark.read.parquet(ouro_total_linha)"
   ]
  },
  {
   "cell_type": "code",
   "execution_count": 31,
   "id": "badba182-ef06-40b7-9e9a-cd920a700e5d",
   "metadata": {},
   "outputs": [
    {
     "name": "stdout",
     "output_type": "stream",
     "text": [
      "root\n",
      " |-- data_ref: string (nullable = true)\n",
      " |-- hora_ref: string (nullable = true)\n",
      " |-- id_linha: long (nullable = true)\n",
      " |-- sentido_linha: long (nullable = true)\n",
      " |-- let_cod_linha: string (nullable = true)\n",
      " |-- let_destino: string (nullable = true)\n",
      " |-- let_origem: string (nullable = true)\n",
      " |-- qtde_onibus: long (nullable = true)\n",
      "\n"
     ]
    }
   ],
   "source": [
    "df_total_linha.printSchema()"
   ]
  },
  {
   "cell_type": "code",
   "execution_count": 32,
   "id": "3f02c7d0-5a8a-4d40-8b15-04ec3ba19b43",
   "metadata": {},
   "outputs": [
    {
     "name": "stdout",
     "output_type": "stream",
     "text": [
      "+--------+--------+--------+-------------+-------------+-----------------+-----------------+-----------+\n",
      "|data_ref|hora_ref|id_linha|sentido_linha|let_cod_linha|      let_destino|       let_origem|qtde_onibus|\n",
      "+--------+--------+--------+-------------+-------------+-----------------+-----------------+-----------+\n",
      "|20240917|   17:50|   34909|            2|      1017-10|CONEXÃO VL. IÓRIO|            PERUS|         10|\n",
      "|20240917|   17:50|   34668|            2|      807A-10| TERM. STO. AMARO|TERM. CAMPO LIMPO|          6|\n",
      "|20240917|   17:50|   33846|            2|      3098-10| SHOP. ARICANDUVA|JD. SÃO FRANCISCO|          8|\n",
      "|20240917|   17:50|   34380|            2|      3787-10|   METRÔ ITAQUERA|  CID. TIRADENTES|          6|\n",
      "|20240917|   17:50|     706|            1|      278A-10|          PENHA  |    METRÔ SANTANA|          3|\n",
      "+--------+--------+--------+-------------+-------------+-----------------+-----------------+-----------+\n",
      "only showing top 5 rows\n",
      "\n"
     ]
    }
   ],
   "source": [
    "df_total_linha.show(5)"
   ]
  },
  {
   "cell_type": "code",
   "execution_count": 33,
   "id": "eda711c8-2b1e-499f-b24b-6b18522b4652",
   "metadata": {},
   "outputs": [],
   "source": [
    "df_total_geral= spark.read.parquet(ouro_total_geral)"
   ]
  },
  {
   "cell_type": "code",
   "execution_count": 34,
   "id": "8723d692-0662-4d96-ac8f-b73fac827a78",
   "metadata": {},
   "outputs": [
    {
     "name": "stdout",
     "output_type": "stream",
     "text": [
      "root\n",
      " |-- data_ref: string (nullable = true)\n",
      " |-- hora_ref: string (nullable = true)\n",
      " |-- qtde_onibus: long (nullable = true)\n",
      "\n"
     ]
    }
   ],
   "source": [
    "df_total_geral.printSchema()"
   ]
  },
  {
   "cell_type": "code",
   "execution_count": 35,
   "id": "7a7895cc-f997-49f3-98ec-3372f496a1b9",
   "metadata": {},
   "outputs": [
    {
     "name": "stdout",
     "output_type": "stream",
     "text": [
      "+--------+--------+-----------+\n",
      "|data_ref|hora_ref|qtde_onibus|\n",
      "+--------+--------+-----------+\n",
      "|20240917|   17:45|      11398|\n",
      "|20240917|   17:55|      11431|\n",
      "|20240917|   17:50|      11411|\n",
      "+--------+--------+-----------+\n",
      "\n"
     ]
    }
   ],
   "source": [
    "df_total_geral.show(5)"
   ]
  },
  {
   "cell_type": "code",
   "execution_count": 36,
   "id": "9d2c273e-4141-4f21-802e-b8a0f2caa4f3",
   "metadata": {},
   "outputs": [],
   "source": [
    "df_avg_hr_linha= spark.read.parquet(ouro_avg_linha)"
   ]
  },
  {
   "cell_type": "code",
   "execution_count": 37,
   "id": "d42a4048-50e1-4c10-aef6-8a78486e3850",
   "metadata": {},
   "outputs": [
    {
     "name": "stdout",
     "output_type": "stream",
     "text": [
      "root\n",
      " |-- data_ref: string (nullable = true)\n",
      " |-- hora_id_ref: string (nullable = true)\n",
      " |-- id_linha: long (nullable = true)\n",
      " |-- sentido_linha: long (nullable = true)\n",
      " |-- let_cod_linha: string (nullable = true)\n",
      " |-- let_destino: string (nullable = true)\n",
      " |-- let_origem: string (nullable = true)\n",
      " |-- qtde_onibus: long (nullable = true)\n",
      "\n"
     ]
    }
   ],
   "source": [
    "df_avg_hr_linha.printSchema()"
   ]
  },
  {
   "cell_type": "code",
   "execution_count": 38,
   "id": "082174bd-b428-4eef-8637-01bc614bfa12",
   "metadata": {},
   "outputs": [
    {
     "name": "stdout",
     "output_type": "stream",
     "text": [
      "+--------+-----------+--------+-------------+-------------+-----------------+-------------------+-----------+\n",
      "|data_ref|hora_id_ref|id_linha|sentido_linha|let_cod_linha|      let_destino|         let_origem|qtde_onibus|\n",
      "+--------+-----------+--------+-------------+-------------+-----------------+-------------------+-----------+\n",
      "|20240917|         17|   34722|            2|      7011-31|       JD. ÂNGELA|       JD. DOS REIS|          4|\n",
      "|20240917|         17|     483|            1|      6232-10|METRÔ BARRA FUNDA|PINHEIROS/VILA IDA |          2|\n",
      "|20240917|         17|    1055|            1|      3766-10|   METRÔ ITAQUERA|           COHAB II|          7|\n",
      "|20240917|         17|     252|            1|      263C-10|         COHAB II|         JD. HELENA|          4|\n",
      "|20240917|         17|   34036|            2|      9012-10|       TERM. LAPA|          ITABERABA|          2|\n",
      "+--------+-----------+--------+-------------+-------------+-----------------+-------------------+-----------+\n",
      "only showing top 5 rows\n",
      "\n"
     ]
    }
   ],
   "source": [
    "df_avg_hr_linha.show(5)"
   ]
  },
  {
   "cell_type": "code",
   "execution_count": 39,
   "id": "04f76cec-33bd-441c-965b-0fded53641c6",
   "metadata": {},
   "outputs": [],
   "source": [
    "df_avg_geral= spark.read.parquet(ouro_avg_geral)"
   ]
  },
  {
   "cell_type": "code",
   "execution_count": 40,
   "id": "0ff30729-5d6d-4ce8-abee-472d27d1e51b",
   "metadata": {},
   "outputs": [
    {
     "name": "stdout",
     "output_type": "stream",
     "text": [
      "root\n",
      " |-- data_ref: string (nullable = true)\n",
      " |-- hora_id_ref: string (nullable = true)\n",
      " |-- qtde_onibus: long (nullable = true)\n",
      "\n"
     ]
    }
   ],
   "source": [
    "df_avg_geral.printSchema()"
   ]
  },
  {
   "cell_type": "code",
   "execution_count": 41,
   "id": "2e0f5ef0-167c-4c3e-a844-86458499b6a8",
   "metadata": {},
   "outputs": [
    {
     "name": "stdout",
     "output_type": "stream",
     "text": [
      "+--------+-----------+-----------+\n",
      "|data_ref|hora_id_ref|qtde_onibus|\n",
      "+--------+-----------+-----------+\n",
      "|20240917|         17|      11414|\n",
      "+--------+-----------+-----------+\n",
      "\n"
     ]
    }
   ],
   "source": [
    "df_avg_geral.show(5)"
   ]
  },
  {
   "cell_type": "code",
   "execution_count": 42,
   "id": "2ddf8ffe-fe4a-4e5f-9b6b-02438d5b18bb",
   "metadata": {},
   "outputs": [],
   "source": [
    "#####################################################################################################\n",
    "#\n",
    "# Conecta no postgres"
   ]
  },
  {
   "cell_type": "code",
   "execution_count": 43,
   "id": "f6c28ce5-8d78-4c83-9651-e32ed7894f90",
   "metadata": {},
   "outputs": [],
   "source": [
    "url = \"jdbc:postgresql://db:5432/dvdrental\"\n",
    "properties = {\n",
    "\"user\": \"admin\",\n",
    "\"password\": \"admin\",\n",
    "\"driver\": \"org.postgresql.Driver\"\n",
    "}"
   ]
  },
  {
   "cell_type": "code",
   "execution_count": 44,
   "id": "c9228182-e7de-4bed-aa39-113f074a63e8",
   "metadata": {},
   "outputs": [],
   "source": [
    "df_avg_geral.write.jdbc( url=url, table='sptrans.media_onibus_geral',mode=\"append\", properties= properties)"
   ]
  },
  {
   "cell_type": "code",
   "execution_count": null,
   "id": "dcedba56-2b40-44af-b42f-09ab0a9c508d",
   "metadata": {},
   "outputs": [],
   "source": []
  },
  {
   "cell_type": "code",
   "execution_count": null,
   "id": "ab79971b-ab81-42cd-9248-0ba0d76043f5",
   "metadata": {},
   "outputs": [],
   "source": []
  },
  {
   "cell_type": "code",
   "execution_count": 45,
   "id": "5278d159-a7a3-42f2-bea1-9620fa37fe49",
   "metadata": {},
   "outputs": [],
   "source": [
    "#####################################################################################################\n",
    "#\n",
    "# Fim do processamento"
   ]
  },
  {
   "cell_type": "code",
   "execution_count": null,
   "id": "400b2405-1a6b-45b3-bad3-4a0a9ceec81d",
   "metadata": {},
   "outputs": [],
   "source": []
  }
 ],
 "metadata": {
  "kernelspec": {
   "display_name": "Python 3 (ipykernel)",
   "language": "python",
   "name": "python3"
  },
  "language_info": {
   "codemirror_mode": {
    "name": "ipython",
    "version": 3
   },
   "file_extension": ".py",
   "mimetype": "text/x-python",
   "name": "python",
   "nbconvert_exporter": "python",
   "pygments_lexer": "ipython3",
   "version": "3.10.8"
  }
 },
 "nbformat": 4,
 "nbformat_minor": 5
}
