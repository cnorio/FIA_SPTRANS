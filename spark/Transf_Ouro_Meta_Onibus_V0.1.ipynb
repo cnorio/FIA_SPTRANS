{
 "cells": [
  {
   "cell_type": "code",
   "execution_count": 317,
   "id": "6c0912a3-8391-4d1d-862a-5b8c6063422c",
   "metadata": {},
   "outputs": [],
   "source": [
    "#\n",
    "# Verifica se a media horária de ônibus em circulação por linha atingiu a meta horária \n",
    "# estabelecida\n",
    "#\n",
    "# Abaixo as informações geradas:\n",
    "# 1. Lista de linhas que atingiram a meta estabelecida\n",
    "# 2. Lista de linhas que estão abaixo da meta estabelecida\n",
    "# 3. Total de linhas que atingiram a meta estabelecida\n",
    "# 4. Total de linhas que estão abaixo da meta estabelecida\n",
    "#\n",
    "# *Obs: a meta estabelecida encontra-se na tabela META_ONIBUS_POR_LINHA\n",
    "#\n"
   ]
  },
  {
   "cell_type": "code",
   "execution_count": 318,
   "id": "bdd464f0-36f4-4334-971f-d6d2ad7f6641",
   "metadata": {},
   "outputs": [],
   "source": [
    "from pyspark.sql import SparkSession"
   ]
  },
  {
   "cell_type": "code",
   "execution_count": 319,
   "id": "2f7de449-d55c-40f8-856d-03235ba5a5ff",
   "metadata": {},
   "outputs": [],
   "source": [
    "from pyspark.sql.functions import explode"
   ]
  },
  {
   "cell_type": "code",
   "execution_count": 320,
   "id": "cdbfea58-0c8d-4863-a991-c3976be5ed25",
   "metadata": {},
   "outputs": [],
   "source": [
    "from pyspark.sql.functions import from_utc_timestamp,split, substring, sum, avg, max,filter, ceil, col, count"
   ]
  },
  {
   "cell_type": "code",
   "execution_count": 321,
   "id": "3a681805-2b27-4b37-85cc-5853fe7b67ab",
   "metadata": {},
   "outputs": [],
   "source": [
    "from datetime import datetime, timedelta\n",
    "import zoneinfo as zi"
   ]
  },
  {
   "cell_type": "code",
   "execution_count": 322,
   "id": "19a99a39-bf4f-42a8-9f1a-03d78c919ad7",
   "metadata": {},
   "outputs": [],
   "source": [
    "spark = SparkSession.builder.appName(\"FIA-Proj-SPTRANS-Ouro-Meta\").enableHiveSupport().getOrCreate()"
   ]
  },
  {
   "cell_type": "code",
   "execution_count": 323,
   "id": "d0fdcb60-2a5a-4db5-8e76-96145f1a1f22",
   "metadata": {},
   "outputs": [],
   "source": [
    "#####################################################################################################\n",
    "#\n",
    "# Calcula a data/hora para verificação do atingimento da meta. \n",
    "# Esse cálculo é baseado em números de horas anteriores a corrente.\n",
    "#\n",
    "#parser= argparse.ArgumentParser()\n",
    "\n",
    "#parser.add_argument(\"hora\", help=\"qtde de horas anteriores a ser processada\", type=int )\n",
    "#args= parser.parse_args()\n",
    "#hora_ant= args.hora\n",
    "\n",
    "#seta o número de horas anteriores a corrente, em que a verificação do atingimento da meta \n",
    "#será verificada\n",
    "hora_ant=16\n",
    "\n",
    "#Calcula a hora a ser processada\n",
    "GMT = zi.ZoneInfo('GMT')\n",
    "LOCAL_TZ_STR='America/Sao_Paulo'\n",
    "LOCAL_TZ = zi.ZoneInfo(LOCAL_TZ_STR)\n",
    "\n",
    "dt_localtime=datetime.now(tz=LOCAL_TZ)\n",
    "dt_lasthour= dt_localtime - timedelta(hours=hora_ant)\n",
    "\n",
    "str_dt_lasthour= dt_lasthour.strftime('%Y/%m/%d/%H')\n",
    "str_lasthour= dt_lasthour.strftime('%H')\n",
    "str_date= dt_lasthour.strftime('%Y%m%d')"
   ]
  },
  {
   "cell_type": "code",
   "execution_count": 324,
   "id": "024f0f4f-14f6-4dac-b6ff-4d2a21efa1f3",
   "metadata": {},
   "outputs": [],
   "source": [
    "#####################################################################################################\n",
    "#\n",
    "# Seta o path da camada ouro onde estão as informações da média de ônibus em circulação da hora a\n",
    "# ser verificada. Também são setados os paths onde serão armazenados as informações abaixo:\n",
    "#\n",
    "# 1. Lista de linhas que atingiram a meta estabelecida\n",
    "# 2. Lista de linhas que estão abaixo da meta estabelecida\n",
    "# 3. Total de linhas que atingiram a meta estabelecida\n",
    "# 4. Total de linhas que estão abaixo da meta estabelecida\n",
    "#\n"
   ]
  },
  {
   "cell_type": "code",
   "execution_count": 325,
   "id": "4da4e81b-a434-4106-8d69-52b260907b8a",
   "metadata": {},
   "outputs": [],
   "source": [
    "#Seta o path da camada ouro onde foram persistidos as informacões de média de ônibus em circulação\n",
    "#por linha da hora a ser verificada\n",
    "ouro_avg_linha= 's3a://ouro/MEDIA_ONIBUS_POR_LINHA/' +  str_dt_lasthour + \"/\""
   ]
  },
  {
   "cell_type": "code",
   "execution_count": 326,
   "id": "de9f0777-b867-4543-8b06-8d1c3175ccc5",
   "metadata": {},
   "outputs": [],
   "source": [
    "#Seta o path da camada ouro onde serão persistidos a lista das linhas que atingiram a meta\n",
    "#estabelecida\n",
    "ouro_lista_linhas_ok= 's3a://ouro/LINHAS_ATINGIDA_META/' +  str_dt_lasthour + \"/\""
   ]
  },
  {
   "cell_type": "code",
   "execution_count": 327,
   "id": "3dbcc200-d7f7-49ce-9d38-8889bff3c37c",
   "metadata": {},
   "outputs": [],
   "source": [
    "#Seta o path da camada ouro onde serão persistidos a lista das linhas que não atingiram\n",
    "#a meta estabelecida\n",
    "ouro_lista_linhas_abaixo= 's3a://ouro/LINHAS_ABAIXO_META/' +  str_dt_lasthour + \"/\""
   ]
  },
  {
   "cell_type": "code",
   "execution_count": 328,
   "id": "f750e714-9a90-4a92-8b06-4c704f7d3c71",
   "metadata": {},
   "outputs": [],
   "source": [
    "#Seta o path da camada ouro onde serão persistidos o total de linhas que atingiram  \n",
    "#a meta estabelecida \n",
    "ouro_total_linhas_ok= 's3a://ouro/TOTAL_LINHAS_ATINGIDA_META/' +  str_dt_lasthour + \"/\""
   ]
  },
  {
   "cell_type": "code",
   "execution_count": 329,
   "id": "70a4fe3f-7a2c-426a-81a3-1261f3e78126",
   "metadata": {},
   "outputs": [],
   "source": [
    "#Seta o path da camada ouro onde serão persistidos o total de linhas que estão abaixo da meta\n",
    "#estabelecida \n",
    "ouro_total_linhas_abaixo= 's3a://ouro/TOTAL_LINHAS_ABAIXO_META/' +  str_dt_lasthour + \"/\""
   ]
  },
  {
   "cell_type": "code",
   "execution_count": 330,
   "id": "94f8175c-d6b9-40aa-88bb-4a48e409f03e",
   "metadata": {},
   "outputs": [
    {
     "name": "stdout",
     "output_type": "stream",
     "text": [
      "s3a://ouro/MEDIA_ONIBUS_POR_LINHA/2024/09/20/22/\n",
      "s3a://ouro/LINHAS_ATINGIDA_META/2024/09/20/22/\n",
      "s3a://ouro/LINHAS_ABAIXO_META/2024/09/20/22/\n",
      "s3a://ouro/TOTAL_LINHAS_ATINGIDA_META/2024/09/20/22/\n",
      "s3a://ouro/TOTAL_LINHAS_ABAIXO_META/2024/09/20/22/\n"
     ]
    }
   ],
   "source": [
    "print(ouro_avg_linha)\n",
    "print(ouro_lista_linhas_ok)\n",
    "print(ouro_lista_linhas_abaixo)\n",
    "print(ouro_total_linhas_ok)\n",
    "print(ouro_total_linhas_abaixo)"
   ]
  },
  {
   "cell_type": "code",
   "execution_count": 331,
   "id": "b6a9472e-1064-4906-8346-399c68df154c",
   "metadata": {},
   "outputs": [],
   "source": [
    "#####################################################################################################\n",
    "#\n",
    "# Configuração das informações de conexão com a base de dados Postgres\n",
    "#"
   ]
  },
  {
   "cell_type": "code",
   "execution_count": 332,
   "id": "ac61b0da-f56a-4421-b14e-2e0fe9ec66e4",
   "metadata": {},
   "outputs": [],
   "source": [
    "url = \"jdbc:postgresql://db:5432/dvdrental\"\n",
    "\n",
    "properties = {\n",
    "\"user\": \"admin\",\n",
    "\"password\": \"admin\",\n",
    "\"driver\": \"org.postgresql.Driver\"\n",
    "}"
   ]
  },
  {
   "cell_type": "code",
   "execution_count": 333,
   "id": "58a18636-42f7-4c18-914c-bdc3332a4953",
   "metadata": {},
   "outputs": [],
   "source": [
    "#####################################################################################################\n",
    "#\n",
    "# Leitura da camada ouro com as informações estatísticas da quantidade de ônibus em circulação \n",
    "# na data/hora calculada\n",
    "#"
   ]
  },
  {
   "cell_type": "code",
   "execution_count": 334,
   "id": "96993f66-eae5-4a4f-be34-6c79d2284e8c",
   "metadata": {},
   "outputs": [],
   "source": [
    "df_avg_linha= spark.read.parquet(ouro_avg_linha)"
   ]
  },
  {
   "cell_type": "code",
   "execution_count": 335,
   "id": "2a6cf03a-71fb-4efc-a032-8db00730e652",
   "metadata": {},
   "outputs": [
    {
     "name": "stdout",
     "output_type": "stream",
     "text": [
      "root\n",
      " |-- data_ref: string (nullable = true)\n",
      " |-- hora_id_ref: string (nullable = true)\n",
      " |-- id_linha: long (nullable = true)\n",
      " |-- sentido_linha: long (nullable = true)\n",
      " |-- let_cod_linha: string (nullable = true)\n",
      " |-- let_destino: string (nullable = true)\n",
      " |-- let_origem: string (nullable = true)\n",
      " |-- qtde_onibus: long (nullable = true)\n",
      "\n"
     ]
    }
   ],
   "source": [
    "#Exibe o schema \n",
    "df_avg_linha.printSchema()"
   ]
  },
  {
   "cell_type": "code",
   "execution_count": 336,
   "id": "98f557fc-155f-4d4f-8af0-42fcaa9af443",
   "metadata": {},
   "outputs": [
    {
     "data": {
      "text/plain": [
       "2061"
      ]
     },
     "execution_count": 336,
     "metadata": {},
     "output_type": "execute_result"
    }
   ],
   "source": [
    "df_avg_linha.count()"
   ]
  },
  {
   "cell_type": "code",
   "execution_count": 337,
   "id": "536aab53-7302-4944-be40-c08b302e6ad1",
   "metadata": {},
   "outputs": [
    {
     "name": "stdout",
     "output_type": "stream",
     "text": [
      "+--------+-----------+--------+-------------+-------------+--------------------+----------------+-----------+\n",
      "|data_ref|hora_id_ref|id_linha|sentido_linha|let_cod_linha|         let_destino|      let_origem|qtde_onibus|\n",
      "+--------+-----------+--------+-------------+-------------+--------------------+----------------+-----------+\n",
      "|20240920|         22|   32863|            2|      6034-10|        TERM. GRAJAÚ| PQ. RES. COCAIA|          5|\n",
      "|20240920|         22|    2540|            1|      8029-10|       TERM. MORUMBI|    SHOP. PORTAL|          4|\n",
      "|20240920|         22|      13|            1|      6836-10|     TERM. JOÃO DIAS|   CAPÃO REDONDO|          5|\n",
      "|20240920|         22|   33481|            2|      2100-10|          PÇA. DA SÉ|TERM. VL. CARRÃO|          8|\n",
      "|20240920|         22|     340|            1|      4727-10|METRÔ PÇA. DA ÁRVORE|      JD. CLÍMAX|          2|\n",
      "+--------+-----------+--------+-------------+-------------+--------------------+----------------+-----------+\n",
      "only showing top 5 rows\n",
      "\n"
     ]
    }
   ],
   "source": [
    "df_avg_linha.show(5)"
   ]
  },
  {
   "cell_type": "code",
   "execution_count": 338,
   "id": "8f7e860b-b66c-41fd-883d-ef91f2297cb2",
   "metadata": {},
   "outputs": [],
   "source": [
    "# Seleciona as colunas da hora, código da linha e qtde de ônibus\n",
    "df_avg_linha_sel=  df_avg_linha.select(\n",
    "    col(\"data_ref\"),\n",
    "    col(\"hora_id_ref\").alias('avg_hora_id_ref'),\n",
    "    col(\"id_linha\").alias('avg_id_linha'),\n",
    "    col(\"qtde_onibus\").alias('avg_qtde_onibus'))"
   ]
  },
  {
   "cell_type": "code",
   "execution_count": 339,
   "id": "c144812c-c63d-486f-96b3-b3db2bc2b9be",
   "metadata": {},
   "outputs": [
    {
     "name": "stdout",
     "output_type": "stream",
     "text": [
      "root\n",
      " |-- data_ref: string (nullable = true)\n",
      " |-- avg_hora_id_ref: string (nullable = true)\n",
      " |-- avg_id_linha: long (nullable = true)\n",
      " |-- avg_qtde_onibus: long (nullable = true)\n",
      "\n"
     ]
    }
   ],
   "source": [
    "df_avg_linha_sel.printSchema()"
   ]
  },
  {
   "cell_type": "code",
   "execution_count": 340,
   "id": "3a961608-176a-4126-8f2c-13a2e2a8504b",
   "metadata": {},
   "outputs": [
    {
     "name": "stdout",
     "output_type": "stream",
     "text": [
      "+--------+---------------+------------+---------------+\n",
      "|data_ref|avg_hora_id_ref|avg_id_linha|avg_qtde_onibus|\n",
      "+--------+---------------+------------+---------------+\n",
      "|20240920|             22|       32863|              5|\n",
      "|20240920|             22|        2540|              4|\n",
      "|20240920|             22|          13|              5|\n",
      "|20240920|             22|       33481|              8|\n",
      "|20240920|             22|         340|              2|\n",
      "+--------+---------------+------------+---------------+\n",
      "only showing top 5 rows\n",
      "\n"
     ]
    }
   ],
   "source": [
    "df_avg_linha_sel.show(5)"
   ]
  },
  {
   "cell_type": "code",
   "execution_count": 341,
   "id": "cc49e403-ecc7-46ec-af0b-7e925d44a1a0",
   "metadata": {},
   "outputs": [],
   "source": [
    "#####################################################################################################\n",
    "#\n",
    "# Lê a tabela do PostgreSql com a meta horária de ônibus em circulação por linha\n",
    "#"
   ]
  },
  {
   "cell_type": "code",
   "execution_count": 342,
   "id": "6177735e-2d39-4dd3-8db4-81fbd0a0d59d",
   "metadata": {},
   "outputs": [],
   "source": [
    "df_meta_linha= spark.read.jdbc( url=url, table='sptrans.meta_onibus_por_linha',properties= properties)"
   ]
  },
  {
   "cell_type": "code",
   "execution_count": 343,
   "id": "b47f381f-c8c2-4a8c-9ece-9d509d76094f",
   "metadata": {},
   "outputs": [
    {
     "name": "stdout",
     "output_type": "stream",
     "text": [
      "root\n",
      " |-- hora_id_ref: string (nullable = true)\n",
      " |-- id_linha: long (nullable = true)\n",
      " |-- sentido_linha: long (nullable = true)\n",
      " |-- let_cod_linha: string (nullable = true)\n",
      " |-- let_destino: string (nullable = true)\n",
      " |-- let_origem: string (nullable = true)\n",
      " |-- meta_qtde_onibus: long (nullable = true)\n",
      "\n"
     ]
    }
   ],
   "source": [
    "#Exibe o schema \n",
    "df_meta_linha.printSchema()"
   ]
  },
  {
   "cell_type": "code",
   "execution_count": 344,
   "id": "b82d9cf8-7927-436e-8e42-6bb6b3355be5",
   "metadata": {},
   "outputs": [
    {
     "data": {
      "text/plain": [
       "12651"
      ]
     },
     "execution_count": 344,
     "metadata": {},
     "output_type": "execute_result"
    }
   ],
   "source": [
    "df_meta_linha.count()"
   ]
  },
  {
   "cell_type": "code",
   "execution_count": 345,
   "id": "ac4f5e22-dfac-4e4a-8b12-f5909e4b22c1",
   "metadata": {},
   "outputs": [
    {
     "name": "stdout",
     "output_type": "stream",
     "text": [
      "+-----------+--------+-------------+-------------+-------------------+--------------------+----------------+\n",
      "|hora_id_ref|id_linha|sentido_linha|let_cod_linha|        let_destino|          let_origem|meta_qtde_onibus|\n",
      "+-----------+--------+-------------+-------------+-------------------+--------------------+----------------+\n",
      "|         22|    2532|            1|      8028-10|      METRÔ MORUMBI|        PARAISÓPOLIS|               5|\n",
      "|         22|    2237|            1|      4056-10|   TERM. SÃO MATEUS|   PQ. BOA ESPERANÇA|               2|\n",
      "|         22|   33121|            2|      5154-10|TERM. PRINC. ISABEL|    TERM. STO. AMARO|               5|\n",
      "|         22|     683|            1|      271F-10|   METRÔ BELÉM     |        CENTER NORTE|               2|\n",
      "|         22|      28|            1|      6818-10|    TERM. CAPELINHA|JD. VALE DAS VIRT...|               3|\n",
      "+-----------+--------+-------------+-------------+-------------------+--------------------+----------------+\n",
      "only showing top 5 rows\n",
      "\n"
     ]
    }
   ],
   "source": [
    "df_meta_linha.show(5)"
   ]
  },
  {
   "cell_type": "code",
   "execution_count": 346,
   "id": "6bb4288c-7105-4367-a2a8-8ff98d04d385",
   "metadata": {},
   "outputs": [],
   "source": [
    "df_meta_hora= df_meta_linha.where(col(\"hora_id_ref\") == str_lasthour )"
   ]
  },
  {
   "cell_type": "code",
   "execution_count": 347,
   "id": "d2c58e9f-c453-4593-b00f-ef22f2663b5d",
   "metadata": {},
   "outputs": [
    {
     "name": "stdout",
     "output_type": "stream",
     "text": [
      "+-----------+--------+-------------+-------------+-------------------+--------------------+----------------+\n",
      "|hora_id_ref|id_linha|sentido_linha|let_cod_linha|        let_destino|          let_origem|meta_qtde_onibus|\n",
      "+-----------+--------+-------------+-------------+-------------------+--------------------+----------------+\n",
      "|         22|    2532|            1|      8028-10|      METRÔ MORUMBI|        PARAISÓPOLIS|               5|\n",
      "|         22|    2237|            1|      4056-10|   TERM. SÃO MATEUS|   PQ. BOA ESPERANÇA|               2|\n",
      "|         22|   33121|            2|      5154-10|TERM. PRINC. ISABEL|    TERM. STO. AMARO|               5|\n",
      "|         22|     683|            1|      271F-10|   METRÔ BELÉM     |        CENTER NORTE|               2|\n",
      "|         22|      28|            1|      6818-10|    TERM. CAPELINHA|JD. VALE DAS VIRT...|               3|\n",
      "+-----------+--------+-------------+-------------+-------------------+--------------------+----------------+\n",
      "only showing top 5 rows\n",
      "\n"
     ]
    }
   ],
   "source": [
    "df_meta_hora.show(5)"
   ]
  },
  {
   "cell_type": "code",
   "execution_count": 348,
   "id": "5161415d-0eaf-49b0-96d8-85ac378b0449",
   "metadata": {},
   "outputs": [],
   "source": [
    "#####################################################################################################\n",
    "#\n",
    "# Realiza o left outer join entre as informações da meta e a média de ônibus em circulação\n",
    "#"
   ]
  },
  {
   "cell_type": "code",
   "execution_count": 349,
   "id": "1b8b8947-727c-4107-b017-2882697025d7",
   "metadata": {},
   "outputs": [],
   "source": [
    "df_valida_qtde = df_meta_hora \\\n",
    "    .join(df_avg_linha_sel, ( df_meta_hora['hora_id_ref'] == df_avg_linha_sel['avg_hora_id_ref'] ) \\\n",
    "                              & ( df_meta_hora['id_linha'] == df_avg_linha_sel['avg_id_linha'] ) , 'left' ) \\\n",
    "    .drop( 'avg_hora_id_ref', 'avg_id_linha') \\\n",
    "    .fillna( {'avg_qtde_onibus':0,'data_ref': str_date} ) \\\n",
    "    .select( col(\"data_ref\"), col(\"hora_id_ref\"), col(\"id_linha\"), col(\"sentido_linha\"), col(\"let_cod_linha\"), col(\"let_destino\"), col(\"let_origem\"), \\\n",
    "             col(\"meta_qtde_onibus\"), col(\"avg_qtde_onibus\") )\n",
    "    "
   ]
  },
  {
   "cell_type": "code",
   "execution_count": 350,
   "id": "db395bb2-7833-4e4b-af6f-920e3a873de3",
   "metadata": {},
   "outputs": [
    {
     "name": "stdout",
     "output_type": "stream",
     "text": [
      "+--------+-----------+--------+-------------+-------------+-------------------+--------------------+----------------+---------------+\n",
      "|data_ref|hora_id_ref|id_linha|sentido_linha|let_cod_linha|        let_destino|          let_origem|meta_qtde_onibus|avg_qtde_onibus|\n",
      "+--------+-----------+--------+-------------+-------------+-------------------+--------------------+----------------+---------------+\n",
      "|20240920|         22|    2532|            1|      8028-10|      METRÔ MORUMBI|        PARAISÓPOLIS|               5|              3|\n",
      "|20240920|         22|    2237|            1|      4056-10|   TERM. SÃO MATEUS|   PQ. BOA ESPERANÇA|               2|              2|\n",
      "|20240920|         22|   33121|            2|      5154-10|TERM. PRINC. ISABEL|    TERM. STO. AMARO|               5|              4|\n",
      "|20240920|         22|     683|            1|      271F-10|   METRÔ BELÉM     |        CENTER NORTE|               2|              2|\n",
      "|20240920|         22|      28|            1|      6818-10|    TERM. CAPELINHA|JD. VALE DAS VIRT...|               3|              3|\n",
      "+--------+-----------+--------+-------------+-------------+-------------------+--------------------+----------------+---------------+\n",
      "only showing top 5 rows\n",
      "\n"
     ]
    }
   ],
   "source": [
    "df_valida_qtde.show(5)"
   ]
  },
  {
   "cell_type": "code",
   "execution_count": 351,
   "id": "313170f4-996d-49e3-b500-4eb0378ecc84",
   "metadata": {},
   "outputs": [
    {
     "data": {
      "text/plain": [
       "15"
      ]
     },
     "execution_count": 351,
     "metadata": {},
     "output_type": "execute_result"
    }
   ],
   "source": [
    "df_valida_qtde.where(col(\"avg_qtde_onibus\") == 0).count()"
   ]
  },
  {
   "cell_type": "code",
   "execution_count": 352,
   "id": "38fd74d1-c138-42d9-8d2f-6c9e238fa3c1",
   "metadata": {},
   "outputs": [],
   "source": [
    "#####################################################################################################\n",
    "#\n",
    "# Seleciona as linhas de ônibus que possuem um valor maior ou igual a meta estabelecida\n",
    "#"
   ]
  },
  {
   "cell_type": "code",
   "execution_count": 353,
   "id": "0f1bbbc7-56ff-4ac0-a7de-75c6eab35ac0",
   "metadata": {},
   "outputs": [],
   "source": [
    "df_lista_linhas_ok= df_valida_qtde.where( col(\"avg_qtde_onibus\") >= col(\"meta_qtde_onibus\") )"
   ]
  },
  {
   "cell_type": "code",
   "execution_count": 354,
   "id": "397412be-1629-4b1c-975c-11441eeee334",
   "metadata": {},
   "outputs": [
    {
     "name": "stdout",
     "output_type": "stream",
     "text": [
      "+--------+-----------+--------+-------------+-------------+----------------+--------------------+----------------+---------------+\n",
      "|data_ref|hora_id_ref|id_linha|sentido_linha|let_cod_linha|     let_destino|          let_origem|meta_qtde_onibus|avg_qtde_onibus|\n",
      "+--------+-----------+--------+-------------+-------------+----------------+--------------------+----------------+---------------+\n",
      "|20240920|         22|    2237|            1|      4056-10|TERM. SÃO MATEUS|   PQ. BOA ESPERANÇA|               2|              2|\n",
      "|20240920|         22|     683|            1|      271F-10|METRÔ BELÉM     |        CENTER NORTE|               2|              2|\n",
      "|20240920|         22|      28|            1|      6818-10| TERM. CAPELINHA|JD. VALE DAS VIRT...|               3|              3|\n",
      "|20240920|         22|     490|            1|      715M-10| LGO. DA PÓLVORA|     JD. MARIA LUIZA|               6|              7|\n",
      "|20240920|         22|     275|            1|      675P-10| METRÔ CONCEIÇÃO|     SHOP. SP MARKET|               3|              4|\n",
      "+--------+-----------+--------+-------------+-------------+----------------+--------------------+----------------+---------------+\n",
      "only showing top 5 rows\n",
      "\n"
     ]
    }
   ],
   "source": [
    "df_lista_linhas_ok.show(5)"
   ]
  },
  {
   "cell_type": "code",
   "execution_count": 355,
   "id": "78327695-fe87-4f79-94c5-1d3a0b968152",
   "metadata": {},
   "outputs": [],
   "source": [
    "#####################################################################################################\n",
    "#\n",
    "# Calcula a quantidade de linhas de ônibus que atingiram a meta\n",
    "#"
   ]
  },
  {
   "cell_type": "code",
   "execution_count": 356,
   "id": "b634e661-3330-44f2-b6b5-6bad0d6824bb",
   "metadata": {},
   "outputs": [],
   "source": [
    "df_total_linhas_ok= df_lista_linhas_ok.groupby('data_ref','hora_id_ref').agg(count('sentido_linha').alias('qtde_linhas'))"
   ]
  },
  {
   "cell_type": "code",
   "execution_count": 357,
   "id": "d739d514-083c-4bef-9567-b9a21292223e",
   "metadata": {},
   "outputs": [
    {
     "name": "stdout",
     "output_type": "stream",
     "text": [
      "+--------+-----------+-----------+\n",
      "|data_ref|hora_id_ref|qtde_linhas|\n",
      "+--------+-----------+-----------+\n",
      "|20240920|         22|       1454|\n",
      "+--------+-----------+-----------+\n",
      "\n"
     ]
    }
   ],
   "source": [
    "df_total_linhas_ok.show()"
   ]
  },
  {
   "cell_type": "code",
   "execution_count": 358,
   "id": "9f6dca4c-9603-4b7f-825d-db0a9b264817",
   "metadata": {},
   "outputs": [],
   "source": [
    "#####################################################################################################\n",
    "#\n",
    "# Seleciona as linhas de ônibus que ficaram abaixo da meta\n",
    "#"
   ]
  },
  {
   "cell_type": "code",
   "execution_count": 359,
   "id": "d24b98c0-df16-43fa-865d-d85c641653a5",
   "metadata": {},
   "outputs": [],
   "source": [
    "df_lista_linhas_abaixo= df_valida_qtde.where( col(\"avg_qtde_onibus\") < col(\"meta_qtde_onibus\") )"
   ]
  },
  {
   "cell_type": "code",
   "execution_count": 360,
   "id": "9619341f-419d-4d38-a81c-aeed9de5ace5",
   "metadata": {},
   "outputs": [
    {
     "name": "stdout",
     "output_type": "stream",
     "text": [
      "+--------+-----------+--------+-------------+-------------+-------------------+----------------+----------------+---------------+\n",
      "|data_ref|hora_id_ref|id_linha|sentido_linha|let_cod_linha|        let_destino|      let_origem|meta_qtde_onibus|avg_qtde_onibus|\n",
      "+--------+-----------+--------+-------------+-------------+-------------------+----------------+----------------+---------------+\n",
      "|20240920|         22|    2532|            1|      8028-10|      METRÔ MORUMBI|    PARAISÓPOLIS|               5|              3|\n",
      "|20240920|         22|   33121|            2|      5154-10|TERM. PRINC. ISABEL|TERM. STO. AMARO|               5|              4|\n",
      "|20240920|         22|   34959|            2|      4018-10|   TERM. SÃO MATEUS|    METALÚRGICOS|              12|             11|\n",
      "|20240920|         22|   34847|            2|      8072-10|      METRÔ MORUMBI|         PQ. IPÊ|               6|              5|\n",
      "|20240920|         22|    1949|            1|      809L-10|               LAPA|     CAMPO LIMPO|              10|              7|\n",
      "+--------+-----------+--------+-------------+-------------+-------------------+----------------+----------------+---------------+\n",
      "only showing top 5 rows\n",
      "\n"
     ]
    }
   ],
   "source": [
    "df_lista_linhas_abaixo.show(5)"
   ]
  },
  {
   "cell_type": "code",
   "execution_count": 361,
   "id": "0ddc5b17-0a9a-4eb0-a0c0-ae60d5f9c463",
   "metadata": {},
   "outputs": [],
   "source": [
    "#####################################################################################################\n",
    "#\n",
    "# Calcula a quantidade de linhas de ônibus que ficaram abaixo da meta do contrato\n",
    "# de ônibus do contrato\n",
    "#"
   ]
  },
  {
   "cell_type": "code",
   "execution_count": 362,
   "id": "5bc95e97-1c53-4aef-a888-0dd451cfa529",
   "metadata": {},
   "outputs": [],
   "source": [
    "df_total_linhas_abaixo= df_lista_linhas_abaixo.groupby('data_ref','hora_id_ref').agg(count('sentido_linha').alias('qtde_linhas'))"
   ]
  },
  {
   "cell_type": "code",
   "execution_count": 363,
   "id": "3bb79fa2-9a6c-4155-a407-c1bb39af2df9",
   "metadata": {},
   "outputs": [
    {
     "name": "stdout",
     "output_type": "stream",
     "text": [
      "+--------+-----------+-----------+\n",
      "|data_ref|hora_id_ref|qtde_linhas|\n",
      "+--------+-----------+-----------+\n",
      "|20240920|         22|        592|\n",
      "+--------+-----------+-----------+\n",
      "\n"
     ]
    }
   ],
   "source": [
    "df_total_linhas_abaixo.show()"
   ]
  },
  {
   "cell_type": "code",
   "execution_count": 364,
   "id": "f50302d1-bf9b-4a05-9556-4e2670da698d",
   "metadata": {},
   "outputs": [],
   "source": [
    "#####################################################################################################\n",
    "#\n",
    "# Gravação dos dataframe na camada Ouro em formato parquet:\n",
    "# 1. Lista de linhas que atingiram a meta estabelecida\n",
    "# 2. Lista de linhas que estão abaixo da meta estabelecida\n",
    "# 3. Total de linhas que atingiram a meta estabelecida\n",
    "# 4. Total de linhas que estão abaixo da meta estabelecida"
   ]
  },
  {
   "cell_type": "code",
   "execution_count": 365,
   "id": "daaecafe-63ab-446b-aaec-a67d72f44dcf",
   "metadata": {},
   "outputs": [],
   "source": [
    "df_lista_linhas_ok.write.parquet(ouro_lista_linhas_ok, mode='overwrite')"
   ]
  },
  {
   "cell_type": "code",
   "execution_count": 366,
   "id": "5b289fa0-a43e-42cb-94cb-f9b5f1acf438",
   "metadata": {},
   "outputs": [],
   "source": [
    "df_total_linhas_ok.write.parquet(ouro_total_linhas_ok, mode='overwrite')"
   ]
  },
  {
   "cell_type": "code",
   "execution_count": 367,
   "id": "4a9b1286-c1ad-4e36-b455-11aa55164b30",
   "metadata": {},
   "outputs": [],
   "source": [
    "df_lista_linhas_abaixo.write.parquet(ouro_lista_linhas_abaixo, mode='overwrite')"
   ]
  },
  {
   "cell_type": "code",
   "execution_count": 368,
   "id": "a131b880-3f10-48c0-a230-26911b89cfbc",
   "metadata": {},
   "outputs": [],
   "source": [
    "df_total_linhas_abaixo.write.parquet(ouro_total_linhas_abaixo, mode='overwrite')"
   ]
  },
  {
   "cell_type": "code",
   "execution_count": 369,
   "id": "b6f9fbb9-5a9e-493a-992f-e36ec64d0a82",
   "metadata": {},
   "outputs": [],
   "source": [
    "#####################################################################################################\n",
    "#\n",
    "# Gravação dos dataframe na base de dados Postgres:\n",
    "# 1. Lista de linhas que atingiram a meta estabelecida\n",
    "# 2. Lista de linhas que estão abaixo da meta estabelecida\n",
    "# 3. Total de linhas que atingiram a meta estabelecida\n",
    "# 4. Total de linhas que estão abaixo da meta estabelecida\n",
    "#"
   ]
  },
  {
   "cell_type": "code",
   "execution_count": 370,
   "id": "ec483d92-ec5a-43b8-8cc0-68fa4539828b",
   "metadata": {},
   "outputs": [],
   "source": [
    "#gravação dos dataframes nas tabelas stages "
   ]
  },
  {
   "cell_type": "code",
   "execution_count": 371,
   "id": "b4679123-f8a2-401c-8518-130f0e58a04c",
   "metadata": {},
   "outputs": [],
   "source": [
    "df_lista_linhas_ok.write.jdbc( url=url, table='sptrans.linhas_atingida_meta_stage',mode=\"overwrite\", properties= properties)"
   ]
  },
  {
   "cell_type": "code",
   "execution_count": 372,
   "id": "122c70df-833e-4e88-9a87-c62a4ca1363f",
   "metadata": {},
   "outputs": [],
   "source": [
    "df_total_linhas_ok.write.jdbc( url=url, table='sptrans.total_linhas_atingida_meta_stage',mode=\"overwrite\", properties= properties)"
   ]
  },
  {
   "cell_type": "code",
   "execution_count": 373,
   "id": "58fd3573-6b12-4f86-b2d6-bd8f07dba215",
   "metadata": {},
   "outputs": [],
   "source": [
    "df_lista_linhas_abaixo.write.jdbc( url=url, table='sptrans.linhas_abaixo_meta_stage',mode=\"overwrite\", properties= properties)"
   ]
  },
  {
   "cell_type": "code",
   "execution_count": 374,
   "id": "734c44e6-1d37-43c5-ad3e-e789c898deb1",
   "metadata": {},
   "outputs": [],
   "source": [
    "df_total_linhas_abaixo.write.jdbc( url=url, table='sptrans.total_linhas_abaixo_meta_stage',mode=\"overwrite\", properties= properties)"
   ]
  },
  {
   "cell_type": "code",
   "execution_count": 375,
   "id": "51c9fe60-a3f5-47ce-a267-19c300a1c427",
   "metadata": {},
   "outputs": [],
   "source": [
    "##################################################################\n",
    "#\n",
    "# upsert dos dados das stages nas tabelas fatos\n",
    "#"
   ]
  },
  {
   "cell_type": "code",
   "execution_count": 376,
   "id": "8837bec3-3aa9-4a6e-bc14-3e30725f763e",
   "metadata": {},
   "outputs": [],
   "source": [
    "import psycopg2\n",
    "from psycopg2 import sql"
   ]
  },
  {
   "cell_type": "code",
   "execution_count": 377,
   "id": "25d32e80-dfb1-4512-baab-3ddfb28eab95",
   "metadata": {},
   "outputs": [],
   "source": [
    "#conexão na base de dados Postgres\n",
    "conn = psycopg2.connect(\n",
    "    dbname=\"dvdrental\",\n",
    "    user=\"admin\",\n",
    "    password=\"admin\",\n",
    "    host=\"db\",\n",
    "    port=\"5432\"\n",
    ")\n",
    "\n",
    "# Criar um cursor\n",
    "cur = conn.cursor()"
   ]
  },
  {
   "cell_type": "code",
   "execution_count": 378,
   "id": "f4d5569d-6535-4c6e-a56a-d92077b948dc",
   "metadata": {},
   "outputs": [],
   "source": [
    "# Upsert na tabela linhas_atingida_meta com as linhas da respectiva tabela stage"
   ]
  },
  {
   "cell_type": "code",
   "execution_count": 379,
   "id": "89a33093-6d3d-4564-a329-e2af8b40a529",
   "metadata": {},
   "outputs": [],
   "source": [
    "query = \"\"\"\n",
    "INSERT INTO sptrans.linhas_atingida_meta(data_ref, hora_id_ref, id_linha, sentido_linha, let_cod_linha, let_destino, let_origem, meta_qtde_onibus, avg_qtde_onibus)\n",
    "   SELECT data_ref, hora_id_ref, id_linha, sentido_linha, let_cod_linha, let_destino, let_origem, meta_qtde_onibus, avg_qtde_onibus\n",
    "   FROM sptrans.linhas_atingida_meta_stage\n",
    "ON CONFLICT (data_ref, hora_id_ref, id_linha) \n",
    "DO UPDATE SET \n",
    "    sentido_linha = EXCLUDED.sentido_linha,\n",
    "    let_cod_linha = EXCLUDED.let_cod_linha,\n",
    "    let_destino = EXCLUDED.let_destino,\n",
    "    let_origem = EXCLUDED.let_origem,\n",
    "    meta_qtde_onibus = EXCLUDED.meta_qtde_onibus,\n",
    "    avg_qtde_onibus = EXCLUDED.avg_qtde_onibus;\n",
    "\"\"\""
   ]
  },
  {
   "cell_type": "code",
   "execution_count": 380,
   "id": "9d6270cd-4ae5-44c2-9e3f-b6d60bd05f94",
   "metadata": {},
   "outputs": [],
   "source": [
    "# Executar a consulta\n",
    "cur.execute(query)"
   ]
  },
  {
   "cell_type": "code",
   "execution_count": 381,
   "id": "077290cd-b8b1-4d6f-99f3-972d83a95f42",
   "metadata": {},
   "outputs": [],
   "source": [
    "# Commit das mudanças\n",
    "#conn.commit()"
   ]
  },
  {
   "cell_type": "code",
   "execution_count": 382,
   "id": "c76ac485-bc15-40dd-b581-a9eeeef9121f",
   "metadata": {},
   "outputs": [],
   "source": [
    "# Upsert na tabela total_linhas_atingida_meta com as linhas da respectiva tabela stage"
   ]
  },
  {
   "cell_type": "code",
   "execution_count": 383,
   "id": "10d69540-8f44-434e-83d4-9bc3e4396662",
   "metadata": {},
   "outputs": [],
   "source": [
    "query = \"\"\"\n",
    "INSERT INTO sptrans.total_linhas_atingida_meta(data_ref, hora_id_ref, qtde_linhas)\n",
    "   SELECT data_ref, hora_id_ref, qtde_linhas\n",
    "   FROM sptrans.total_linhas_atingida_meta_stage\n",
    "ON CONFLICT (data_ref, hora_id_ref) \n",
    "DO UPDATE SET \n",
    "    qtde_linhas = EXCLUDED.qtde_linhas;\n",
    "\"\"\""
   ]
  },
  {
   "cell_type": "code",
   "execution_count": 384,
   "id": "2669d5f9-f112-4c7f-956c-b3538a8d43da",
   "metadata": {},
   "outputs": [],
   "source": [
    "# Executar a consulta\n",
    "cur.execute(query)"
   ]
  },
  {
   "cell_type": "code",
   "execution_count": 385,
   "id": "9913dc75-5dee-4279-a236-a1c0d5958e8b",
   "metadata": {},
   "outputs": [],
   "source": [
    "# Commit das mudanças\n",
    "#conn.commit()"
   ]
  },
  {
   "cell_type": "code",
   "execution_count": 386,
   "id": "cf972134-0050-498f-902a-ee376925392c",
   "metadata": {},
   "outputs": [],
   "source": [
    "# Upsert na tabela linhas_abaixo_meta com as linhas da respectiva tabela stage"
   ]
  },
  {
   "cell_type": "code",
   "execution_count": 387,
   "id": "4cce151f-22c4-49a7-a9fd-2eb8980aedd0",
   "metadata": {},
   "outputs": [],
   "source": [
    "query = \"\"\"\n",
    "INSERT INTO sptrans.linhas_abaixo_meta(data_ref, hora_id_ref, id_linha, sentido_linha, let_cod_linha, let_destino, let_origem, meta_qtde_onibus, avg_qtde_onibus)\n",
    "   SELECT data_ref, hora_id_ref, id_linha, sentido_linha, let_cod_linha, let_destino, let_origem, meta_qtde_onibus, avg_qtde_onibus\n",
    "   FROM sptrans.linhas_abaixo_meta_stage\n",
    "ON CONFLICT (data_ref, hora_id_ref, id_linha) \n",
    "DO UPDATE SET \n",
    "    sentido_linha = EXCLUDED.sentido_linha,\n",
    "    let_cod_linha = EXCLUDED.let_cod_linha,\n",
    "    let_destino = EXCLUDED.let_destino,\n",
    "    let_origem = EXCLUDED.let_origem,\n",
    "    meta_qtde_onibus = EXCLUDED.meta_qtde_onibus,\n",
    "    avg_qtde_onibus = EXCLUDED.avg_qtde_onibus;\n",
    "\"\"\""
   ]
  },
  {
   "cell_type": "code",
   "execution_count": 388,
   "id": "3719d292-4977-4e1c-b1d0-9596522ca310",
   "metadata": {},
   "outputs": [],
   "source": [
    "# Executar a consulta\n",
    "cur.execute(query)"
   ]
  },
  {
   "cell_type": "code",
   "execution_count": 389,
   "id": "6f3d6f69-2d26-4a66-b683-7e22b0690866",
   "metadata": {},
   "outputs": [],
   "source": [
    "# Commit das mudanças\n",
    "#conn.commit()"
   ]
  },
  {
   "cell_type": "code",
   "execution_count": 390,
   "id": "cdff1b31-b221-44ed-99dd-9d1fa4e14d78",
   "metadata": {},
   "outputs": [],
   "source": [
    "# Upsert na tabela total_linhas_abaixo_meta com as linhas da respectiva tabela stage"
   ]
  },
  {
   "cell_type": "code",
   "execution_count": 391,
   "id": "42e05a36-6c9c-4311-8fdc-0fda07a23ea7",
   "metadata": {},
   "outputs": [],
   "source": [
    "query = \"\"\"\n",
    "INSERT INTO sptrans.total_linhas_abaixo_meta(data_ref, hora_id_ref, qtde_linhas)\n",
    "   SELECT data_ref, hora_id_ref, qtde_linhas\n",
    "   FROM sptrans.total_linhas_abaixo_meta_stage\n",
    "ON CONFLICT (data_ref, hora_id_ref) \n",
    "DO UPDATE SET \n",
    "    qtde_linhas = EXCLUDED.qtde_linhas;\n",
    "\"\"\""
   ]
  },
  {
   "cell_type": "code",
   "execution_count": 392,
   "id": "edb55fa0-585b-42b1-932f-e0b2ea3c2c81",
   "metadata": {},
   "outputs": [],
   "source": [
    "# Executar a consulta\n",
    "cur.execute(query)"
   ]
  },
  {
   "cell_type": "code",
   "execution_count": 393,
   "id": "e17b387d-48e0-4b45-95b7-1a03e528dd80",
   "metadata": {},
   "outputs": [],
   "source": [
    "# Commit das mudanças\n",
    "conn.commit()"
   ]
  },
  {
   "cell_type": "code",
   "execution_count": 394,
   "id": "38f64971-06e2-48ce-b345-b16fdb2fbb6a",
   "metadata": {},
   "outputs": [],
   "source": [
    "# Fechar o cursor e a conexão\n",
    "cur.close()\n",
    "conn.close()"
   ]
  },
  {
   "cell_type": "code",
   "execution_count": 395,
   "id": "5278d159-a7a3-42f2-bea1-9620fa37fe49",
   "metadata": {},
   "outputs": [],
   "source": [
    "#####################################################################################################\n",
    "#\n",
    "# Fim do processamento"
   ]
  },
  {
   "cell_type": "code",
   "execution_count": null,
   "id": "400b2405-1a6b-45b3-bad3-4a0a9ceec81d",
   "metadata": {},
   "outputs": [],
   "source": []
  }
 ],
 "metadata": {
  "kernelspec": {
   "display_name": "Python 3 (ipykernel)",
   "language": "python",
   "name": "python3"
  },
  "language_info": {
   "codemirror_mode": {
    "name": "ipython",
    "version": 3
   },
   "file_extension": ".py",
   "mimetype": "text/x-python",
   "name": "python",
   "nbconvert_exporter": "python",
   "pygments_lexer": "ipython3",
   "version": "3.10.8"
  }
 },
 "nbformat": 4,
 "nbformat_minor": 5
}
