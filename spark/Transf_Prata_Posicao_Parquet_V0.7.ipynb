{
 "cells": [
  {
   "cell_type": "code",
   "execution_count": 73,
   "id": "6c0912a3-8391-4d1d-862a-5b8c6063422c",
   "metadata": {},
   "outputs": [],
   "source": [
    "#####################################################################################################\n",
    "#\n",
    "# Processamento dos arquivos JSON, gerados pela ingestao (pelo NIFI) da API Posicao da SPTRANS, \n",
    "# para a geração dos arquivos da camada Prata\n",
    "# \n"
   ]
  },
  {
   "cell_type": "code",
   "execution_count": 74,
   "id": "bdd464f0-36f4-4334-971f-d6d2ad7f6641",
   "metadata": {},
   "outputs": [],
   "source": [
    "from pyspark.sql import SparkSession"
   ]
  },
  {
   "cell_type": "code",
   "execution_count": 75,
   "id": "2f7de449-d55c-40f8-856d-03235ba5a5ff",
   "metadata": {},
   "outputs": [],
   "source": [
    "from pyspark.sql.functions import explode"
   ]
  },
  {
   "cell_type": "code",
   "execution_count": 76,
   "id": "cdbfea58-0c8d-4863-a991-c3976be5ed25",
   "metadata": {},
   "outputs": [],
   "source": [
    "from pyspark.sql.functions import from_utc_timestamp, split, substring, lit, col"
   ]
  },
  {
   "cell_type": "code",
   "execution_count": 77,
   "id": "3a681805-2b27-4b37-85cc-5853fe7b67ab",
   "metadata": {},
   "outputs": [],
   "source": [
    "from datetime import datetime, timedelta\n",
    "import zoneinfo as zi"
   ]
  },
  {
   "cell_type": "code",
   "execution_count": 78,
   "id": "19a99a39-bf4f-42a8-9f1a-03d78c919ad7",
   "metadata": {},
   "outputs": [],
   "source": [
    "spark = SparkSession.builder.appName(\"FIA-Proj-SPTRANS\").enableHiveSupport().getOrCreate()"
   ]
  },
  {
   "cell_type": "code",
   "execution_count": 79,
   "id": "3e732029-6d8f-406b-92c3-44f2417165fc",
   "metadata": {},
   "outputs": [],
   "source": [
    "#####################################################################################################\n",
    "#\n",
    "# Leitura dos arquivos JSON ingeridos pelo NIFI da API Posicao, referentes a hora anterior a atual\n",
    "#"
   ]
  },
  {
   "cell_type": "code",
   "execution_count": 80,
   "id": "231c4191-edb7-4d1b-a7b8-db2f81382640",
   "metadata": {},
   "outputs": [],
   "source": [
    "#Calcula da hora anterior\n",
    "GMT = zi.ZoneInfo('GMT')\n",
    "LOCAL_TZ_STR='America/Sao_Paulo'\n",
    "LOCAL_TZ = zi.ZoneInfo(LOCAL_TZ_STR)\n",
    "\n",
    "dt_localtime=datetime.now(tz=LOCAL_TZ)\n",
    "dt_lasthour= dt_localtime - timedelta(hours=0)\n",
    "\n",
    "str_lasthour= dt_lasthour.strftime('%Y/%m/%d/%H')\n",
    "\n",
    "str_data= dt_lasthour.strftime('%Y%m%d')\n"
   ]
  },
  {
   "cell_type": "code",
   "execution_count": 81,
   "id": "4da4e81b-a434-4106-8d69-52b260907b8a",
   "metadata": {},
   "outputs": [],
   "source": [
    "#Seta o path da camada bronze onde os arquivos da hora anterior serão lidos\n",
    "bronze='s3a://bronze/API_SPTRANS_POSICAO_OK/' + str_lasthour + \"/\""
   ]
  },
  {
   "cell_type": "code",
   "execution_count": 82,
   "id": "de9f0777-b867-4543-8b06-8d1c3175ccc5",
   "metadata": {},
   "outputs": [],
   "source": [
    "#Seta o path da camada prata onde serão persistidos os arquivos da camada prata\n",
    "prata= 's3a://prata/POSICAO_PARQUET/' +  str_lasthour + \"/\""
   ]
  },
  {
   "cell_type": "code",
   "execution_count": 83,
   "id": "94f8175c-d6b9-40aa-88bb-4a48e409f03e",
   "metadata": {},
   "outputs": [
    {
     "name": "stdout",
     "output_type": "stream",
     "text": [
      "s3a://bronze/API_SPTRANS_POSICAO_OK/2024/09/18/20/\n",
      "s3a://prata/POSICAO_PARQUET/2024/09/18/20/\n"
     ]
    }
   ],
   "source": [
    "print(bronze)\n",
    "print(prata)"
   ]
  },
  {
   "cell_type": "code",
   "execution_count": 84,
   "id": "96993f66-eae5-4a4f-be34-6c79d2284e8c",
   "metadata": {},
   "outputs": [],
   "source": [
    "#Lê os arquivos JSON retornados pela API Posicao\n",
    "df_bronze= spark.read.json(bronze)"
   ]
  },
  {
   "cell_type": "code",
   "execution_count": 85,
   "id": "2a6cf03a-71fb-4efc-a032-8db00730e652",
   "metadata": {},
   "outputs": [
    {
     "name": "stdout",
     "output_type": "stream",
     "text": [
      "root\n",
      " |-- hr: string (nullable = true)\n",
      " |-- l: array (nullable = true)\n",
      " |    |-- element: struct (containsNull = true)\n",
      " |    |    |-- c: string (nullable = true)\n",
      " |    |    |-- cl: long (nullable = true)\n",
      " |    |    |-- lt0: string (nullable = true)\n",
      " |    |    |-- lt1: string (nullable = true)\n",
      " |    |    |-- qv: long (nullable = true)\n",
      " |    |    |-- sl: long (nullable = true)\n",
      " |    |    |-- vs: array (nullable = true)\n",
      " |    |    |    |-- element: struct (containsNull = true)\n",
      " |    |    |    |    |-- a: boolean (nullable = true)\n",
      " |    |    |    |    |-- is: string (nullable = true)\n",
      " |    |    |    |    |-- p: long (nullable = true)\n",
      " |    |    |    |    |-- px: double (nullable = true)\n",
      " |    |    |    |    |-- py: double (nullable = true)\n",
      " |    |    |    |    |-- sv: string (nullable = true)\n",
      " |    |    |    |    |-- ta: string (nullable = true)\n",
      "\n"
     ]
    }
   ],
   "source": [
    "#Exibe o schema \n",
    "df_bronze.printSchema()"
   ]
  },
  {
   "cell_type": "code",
   "execution_count": 86,
   "id": "9f6dca4c-9603-4b7f-825d-db0a9b264817",
   "metadata": {},
   "outputs": [],
   "source": [
    "#####################################################################################################\n",
    "#\n",
    "# Selecão das variáveis de interesse do JSON, normalizando as suas informacões e formatando-as em\n",
    "# tabela\n",
    "#"
   ]
  },
  {
   "cell_type": "code",
   "execution_count": 87,
   "id": "a89a2cec-3ad8-481a-bbb5-3798d38d0e2f",
   "metadata": {},
   "outputs": [],
   "source": [
    "# Explodindo o array 'l' para criar uma nova linha para cada elemento do array\n",
    "df_exploded = df_bronze.withColumn(\"l_exploded\", explode(\"l\"))"
   ]
  },
  {
   "cell_type": "code",
   "execution_count": 88,
   "id": "32d3adb9-5a30-4ed5-a77e-af564f923013",
   "metadata": {},
   "outputs": [],
   "source": [
    "# Explodir o array 'vs' dentro do struct 'l_exploded'\n",
    "df_vs_exploded = df_exploded.withColumn(\"vs_exploded\", explode(\"l_exploded.vs\"))"
   ]
  },
  {
   "cell_type": "code",
   "execution_count": 89,
   "id": "d0927d5c-2faa-4759-be61-f59e36936035",
   "metadata": {},
   "outputs": [
    {
     "name": "stdout",
     "output_type": "stream",
     "text": [
      "+--------+----------+-------------+-------------+-----------+----------+-------------------+-------------------+-------------------+--------+-----------+\n",
      "|hora_ref|cod_onibus|let_cod_linha|sentido_linha|let_destino|let_origem|timestamp_pos      |latitude_pos       |longitude_pos      |id_linha|qtde_onibus|\n",
      "+--------+----------+-------------+-------------+-----------+----------+-------------------+-------------------+-------------------+--------+-----------+\n",
      "|20:47   |68116     |5010-10      |1            |STO. AMARO |JABAQUARA |2024-09-18 20:47:18|-46.7041145        |-23.6537065        |1114    |7          |\n",
      "|20:47   |68434     |5010-10      |1            |STO. AMARO |JABAQUARA |2024-09-18 20:47:05|-46.631309         |-23.6624725        |1114    |7          |\n",
      "|20:47   |68033     |5010-10      |1            |STO. AMARO |JABAQUARA |2024-09-18 20:46:44|-46.63600375       |-23.66687625       |1114    |7          |\n",
      "|20:47   |68449     |5010-10      |1            |STO. AMARO |JABAQUARA |2024-09-18 20:47:06|-46.631309         |-23.6624725        |1114    |7          |\n",
      "|20:47   |68246     |5010-10      |1            |STO. AMARO |JABAQUARA |2024-09-18 20:47:03|-46.637139499999996|-23.661182750000002|1114    |7          |\n",
      "+--------+----------+-------------+-------------+-----------+----------+-------------------+-------------------+-------------------+--------+-----------+\n",
      "only showing top 5 rows\n",
      "\n"
     ]
    }
   ],
   "source": [
    "# Visualizar os campos de interesse\n",
    "df_vs_exploded.select(\n",
    "    col(\"hr\").alias('hora_ref'),                  # hr : hora de referência da geração das infos\n",
    "    col(\"vs_exploded.p\").alias('cod_onibus'),     # p  : código do veículo    \n",
    "    col(\"l_exploded.c\").alias('let_cod_linha'),   # c  : código da linha no letreiro do ônibus    \n",
    "    col(\"l_exploded.sl\").alias('sentido_linha'),  # sl : sentido de operação da linha (1 do Term Principal para o Term Secundário - 2 do Term Secundário para o Term Principal)    \n",
    "    col(\"l_exploded.lt0\").alias('let_destino'),   # lt0: letreiro de destino da linha\n",
    "    col(\"l_exploded.lt1\").alias('let_origem'),    # lt1: letreiro de origem da linha\n",
    "    from_utc_timestamp(split(\"vs_exploded.ta\",'\\+')[0],LOCAL_TZ_STR).alias('timestamp_pos'), #hora local da coleta das infos do ônibus\n",
    "    col(\"vs_exploded.px\").alias('latitude_pos'),  # px : latitude da posição do ônibus\n",
    "    col(\"vs_exploded.py\").alias('longitude_pos'), # py : longitude da posição do ônibus\n",
    "    col(\"l_exploded.cl\").alias('id_linha'),       # cl : código interno da linha\n",
    "    col(\"l_exploded.qv\").alias('qtde_onibus')     # qv : quantidade de ônibus localizados    \n",
    ").show(5,truncate=False)"
   ]
  },
  {
   "cell_type": "code",
   "execution_count": 90,
   "id": "0931d7af-d63b-411a-83c5-25b1d052c942",
   "metadata": {},
   "outputs": [],
   "source": [
    "# Criar dataframe com os campos de interesse, normalizando as infos necessárias, para gravação na camada prata\n",
    "df_norm= df_vs_exploded.select(\n",
    "    col(\"hr\").alias('hora_ref'),                  # hr : hora de referência da geração das infos\n",
    "    col(\"vs_exploded.p\").alias('cod_onibus'),     # p  : código do veículo    \n",
    "    col(\"l_exploded.sl\").alias('sentido_linha'),  # sl : sentido de operação da linha (1 do Term Principal para o Term Secundário - 2 do Term Secundário para o Term Principal)        \n",
    "    col(\"l_exploded.c\").alias('let_cod_linha'),   # c  : código da linha no letreiro do ônibus    \n",
    "    col(\"l_exploded.lt0\").alias('let_destino'),   # lt0: letreiro de destino da linha\n",
    "    col(\"l_exploded.lt1\").alias('let_origem'),    # lt1: letreiro de origem da linha\n",
    "    from_utc_timestamp(split(\"vs_exploded.ta\",'\\+')[0],LOCAL_TZ_STR).alias('timestamp_pos'), #hora local da coleta das infos do ônibus\n",
    "    col(\"vs_exploded.px\").alias('latitude_pos'),  # px : latitude da posição do ônibus\n",
    "    col(\"vs_exploded.py\").alias('longitude_pos'), # py : longitude da posição do ônibus\n",
    "    col(\"l_exploded.cl\").alias('id_linha'),       # cl : código interno da linha\n",
    "    col(\"l_exploded.qv\").alias('qtde_onibus')     # qv : quantidade de ônibus localizados    \n",
    ")"
   ]
  },
  {
   "cell_type": "code",
   "execution_count": 91,
   "id": "c9e4c8d2-7746-4c45-9c75-068e1bdb1fa0",
   "metadata": {},
   "outputs": [],
   "source": [
    "df_norm_data= df_norm.withColumn(\"data_ref\", lit(str_data) )"
   ]
  },
  {
   "cell_type": "code",
   "execution_count": 92,
   "id": "62e8f09d-2207-40f9-b7e7-9a9cfc381b78",
   "metadata": {},
   "outputs": [],
   "source": [
    "df_result= df_norm_data.select(\n",
    "    \"data_ref\",       # data : data de referencia da geracao das infos\n",
    "    'hora_ref',       # hr : hora de referência da geração das infos\n",
    "    'cod_onibus',     # p  : código do veículo    \n",
    "    'sentido_linha',  # sl : sentido de operação da linha (1 do Term Principal para o Term Secundário - 2 do Term Secundário para o Term Principal)        \n",
    "    'let_cod_linha',  # c  : código da linha no letreiro do ônibus    \n",
    "    'let_destino',    # lt0: letreiro de destino da linha\n",
    "    'let_origem',     # lt1: letreiro de origem da linha\n",
    "    'timestamp_pos',  #hora local da coleta das infos do ônibus\n",
    "    'latitude_pos',   # px : latitude da posição do ônibus\n",
    "    'longitude_pos',  # py : longitude da posição do ônibus\n",
    "    'id_linha',       # cl : código interno da linha\n",
    "    'qtde_onibus'     # qv : quantidade de ônibus localizados  \n",
    "    )\n",
    "                               "
   ]
  },
  {
   "cell_type": "code",
   "execution_count": 93,
   "id": "e47c41b1-c877-4c29-a95d-aca959cbbd42",
   "metadata": {},
   "outputs": [
    {
     "name": "stdout",
     "output_type": "stream",
     "text": [
      "+--------+--------+----------+-------------+-------------+-----------+----------+-------------------+-------------------+-------------------+--------+-----------+\n",
      "|data_ref|hora_ref|cod_onibus|sentido_linha|let_cod_linha|let_destino|let_origem|      timestamp_pos|       latitude_pos|      longitude_pos|id_linha|qtde_onibus|\n",
      "+--------+--------+----------+-------------+-------------+-----------+----------+-------------------+-------------------+-------------------+--------+-----------+\n",
      "|20240918|   20:47|     68116|            1|      5010-10| STO. AMARO| JABAQUARA|2024-09-18 20:47:18|        -46.7041145|        -23.6537065|    1114|          7|\n",
      "|20240918|   20:47|     68434|            1|      5010-10| STO. AMARO| JABAQUARA|2024-09-18 20:47:05|         -46.631309|        -23.6624725|    1114|          7|\n",
      "|20240918|   20:47|     68033|            1|      5010-10| STO. AMARO| JABAQUARA|2024-09-18 20:46:44|       -46.63600375|       -23.66687625|    1114|          7|\n",
      "|20240918|   20:47|     68449|            1|      5010-10| STO. AMARO| JABAQUARA|2024-09-18 20:47:06|         -46.631309|        -23.6624725|    1114|          7|\n",
      "|20240918|   20:47|     68246|            1|      5010-10| STO. AMARO| JABAQUARA|2024-09-18 20:47:03|-46.637139499999996|-23.661182750000002|    1114|          7|\n",
      "+--------+--------+----------+-------------+-------------+-----------+----------+-------------------+-------------------+-------------------+--------+-----------+\n",
      "only showing top 5 rows\n",
      "\n"
     ]
    }
   ],
   "source": [
    "df_result.show(5)"
   ]
  },
  {
   "cell_type": "code",
   "execution_count": 94,
   "id": "f50302d1-bf9b-4a05-9556-4e2670da698d",
   "metadata": {},
   "outputs": [],
   "source": [
    "#####################################################################################################\n",
    "#\n",
    "# Gravação do dataframe resultado do processamento na camada PRATA num path referente a última hora,\n",
    "# em formato PARQUET.\n",
    "# Obs: O processamento é feito para todos os arquivos da última hora, por isso utiliza-se o método\n",
    "# overwrite para sobrepor os dados anteriores.\n",
    "#"
   ]
  },
  {
   "cell_type": "code",
   "execution_count": 95,
   "id": "daaecafe-63ab-446b-aaec-a67d72f44dcf",
   "metadata": {},
   "outputs": [],
   "source": [
    "df_result.write.parquet(prata, mode='overwrite')"
   ]
  },
  {
   "cell_type": "code",
   "execution_count": 96,
   "id": "5278d159-a7a3-42f2-bea1-9620fa37fe49",
   "metadata": {},
   "outputs": [],
   "source": [
    "#####################################################################################################\n",
    "#\n",
    "# Fim do processamento"
   ]
  },
  {
   "cell_type": "code",
   "execution_count": null,
   "id": "400b2405-1a6b-45b3-bad3-4a0a9ceec81d",
   "metadata": {},
   "outputs": [],
   "source": []
  }
 ],
 "metadata": {
  "kernelspec": {
   "display_name": "Python 3 (ipykernel)",
   "language": "python",
   "name": "python3"
  },
  "language_info": {
   "codemirror_mode": {
    "name": "ipython",
    "version": 3
   },
   "file_extension": ".py",
   "mimetype": "text/x-python",
   "name": "python",
   "nbconvert_exporter": "python",
   "pygments_lexer": "ipython3",
   "version": "3.10.8"
  }
 },
 "nbformat": 4,
 "nbformat_minor": 5
}
